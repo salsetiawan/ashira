{
 "cells": [
  {
   "cell_type": "code",
   "execution_count": 1,
   "id": "64b6815a-012e-4934-859d-7cebf9a555e7",
   "metadata": {},
   "outputs": [
    {
     "data": {
      "text/html": [
       "<div>\n",
       "<style scoped>\n",
       "    .dataframe tbody tr th:only-of-type {\n",
       "        vertical-align: middle;\n",
       "    }\n",
       "\n",
       "    .dataframe tbody tr th {\n",
       "        vertical-align: top;\n",
       "    }\n",
       "\n",
       "    .dataframe thead th {\n",
       "        text-align: right;\n",
       "    }\n",
       "</style>\n",
       "<table border=\"1\" class=\"dataframe\">\n",
       "  <thead>\n",
       "    <tr style=\"text-align: right;\">\n",
       "      <th></th>\n",
       "      <th>nconst</th>\n",
       "      <th>primaryName</th>\n",
       "      <th>birthYear</th>\n",
       "      <th>deathYear</th>\n",
       "      <th>primaryProfession</th>\n",
       "      <th>knownForTitles</th>\n",
       "    </tr>\n",
       "  </thead>\n",
       "  <tbody>\n",
       "    <tr>\n",
       "      <th>0</th>\n",
       "      <td>nm0000001</td>\n",
       "      <td>Fred Astaire</td>\n",
       "      <td>1899.0</td>\n",
       "      <td>1987.0</td>\n",
       "      <td>actor,miscellaneous,producer</td>\n",
       "      <td>tt0050419,tt0072308,tt0053137,tt0027125</td>\n",
       "    </tr>\n",
       "    <tr>\n",
       "      <th>1</th>\n",
       "      <td>nm0000002</td>\n",
       "      <td>Lauren Bacall</td>\n",
       "      <td>1924.0</td>\n",
       "      <td>2014.0</td>\n",
       "      <td>actress,soundtrack,archive_footage</td>\n",
       "      <td>tt0037382,tt0075213,tt0117057,tt0038355</td>\n",
       "    </tr>\n",
       "    <tr>\n",
       "      <th>2</th>\n",
       "      <td>nm0000003</td>\n",
       "      <td>Brigitte Bardot</td>\n",
       "      <td>1934.0</td>\n",
       "      <td>NaN</td>\n",
       "      <td>actress,music_department,producer</td>\n",
       "      <td>tt0057345,tt0049189,tt0056404,tt0054452</td>\n",
       "    </tr>\n",
       "    <tr>\n",
       "      <th>3</th>\n",
       "      <td>nm0000004</td>\n",
       "      <td>John Belushi</td>\n",
       "      <td>1949.0</td>\n",
       "      <td>1982.0</td>\n",
       "      <td>actor,writer,music_department</td>\n",
       "      <td>tt0072562,tt0077975,tt0080455,tt0078723</td>\n",
       "    </tr>\n",
       "    <tr>\n",
       "      <th>4</th>\n",
       "      <td>nm0000005</td>\n",
       "      <td>Ingmar Bergman</td>\n",
       "      <td>1918.0</td>\n",
       "      <td>2007.0</td>\n",
       "      <td>writer,director,actor</td>\n",
       "      <td>tt0050986,tt0069467,tt0050976,tt0083922</td>\n",
       "    </tr>\n",
       "  </tbody>\n",
       "</table>\n",
       "</div>"
      ],
      "text/plain": [
       "      nconst      primaryName  birthYear  deathYear  \\\n",
       "0  nm0000001     Fred Astaire     1899.0     1987.0   \n",
       "1  nm0000002    Lauren Bacall     1924.0     2014.0   \n",
       "2  nm0000003  Brigitte Bardot     1934.0        NaN   \n",
       "3  nm0000004     John Belushi     1949.0     1982.0   \n",
       "4  nm0000005   Ingmar Bergman     1918.0     2007.0   \n",
       "\n",
       "                    primaryProfession                           knownForTitles  \n",
       "0        actor,miscellaneous,producer  tt0050419,tt0072308,tt0053137,tt0027125  \n",
       "1  actress,soundtrack,archive_footage  tt0037382,tt0075213,tt0117057,tt0038355  \n",
       "2   actress,music_department,producer  tt0057345,tt0049189,tt0056404,tt0054452  \n",
       "3       actor,writer,music_department  tt0072562,tt0077975,tt0080455,tt0078723  \n",
       "4               writer,director,actor  tt0050986,tt0069467,tt0050976,tt0083922  "
      ]
     },
     "execution_count": 1,
     "metadata": {},
     "output_type": "execute_result"
    }
   ],
   "source": [
    "# import Library yang dibutuhkan\n",
    "import pandas as pd                   #dataframe manipulation\n",
    "import numpy as np                    #scientific camputing\n",
    "import seaborn as sns                 #visualization\n",
    "import matplotlib.pyplot as plt       #visualization\n",
    "%matplotlib inline\n",
    "sns.set(color_codes=True)\n",
    "\n",
    "import warnings\n",
    "warnings.filterwarnings('ignore')\n",
    "\n",
    "\n",
    "# Tables yang akan digunakan\n",
    "'''\n",
    "name.basics.tsv.gz\n",
    "title.basics.tsv.gz\n",
    "title.crew.tsv.gz\n",
    "title.episode.tsv.gz\n",
    "title.ratings.tsv.gz\n",
    "'''\n",
    "\n",
    "# Load all the TSV file into a DataFrame\n",
    "df = pd.read_csv(\"C:/Users/HP/Desktop/Data IMDb/name.basics.tsv\", sep='\\t', na_values=\"\\\\N\") #formatting penulisan NaN\n",
    "#title_basics = pd.read_csv(\"C:/Users/HP/Desktop/Data IMDb/title.basics.tsv\", sep='\\t')\n",
    "#title_crew = pd.read_csv(\"C:/Users/HP/Desktop/Data IMDb/title.crew.tsv\", sep='\\t')\n",
    "#title_episode = pd.read_csv(\"C:/Users/HP/Desktop/Data IMDb/title.episode.tsv\", sep='\\t')\n",
    "#title_ratings = pd.read_csv(\"C:/Users/HP/Desktop/Data IMDb/title.ratings.tsv\", sep='\\t')\n",
    "\n",
    "# Display the first 5 rows\n",
    "df.head()\n",
    "#title_basics.head()\n",
    "#title_crew.head()\n",
    "#title_episode.head()\n",
    "#title_ratings.head()"
   ]
  },
  {
   "cell_type": "code",
   "execution_count": 3,
   "id": "1d3d44fa-2cb6-4704-ab31-67db56da84f5",
   "metadata": {},
   "outputs": [
    {
     "data": {
      "text/plain": [
       "nconst                object\n",
       "primaryName           object\n",
       "birthYear            float64\n",
       "deathYear            float64\n",
       "primaryProfession     object\n",
       "knownForTitles        object\n",
       "dtype: object"
      ]
     },
     "execution_count": 3,
     "metadata": {},
     "output_type": "execute_result"
    }
   ],
   "source": [
    "'''Data Wrangling'''\n",
    "\n",
    "# Cek tipe data\n",
    "df.dtypes"
   ]
  },
  {
   "cell_type": "code",
   "execution_count": 5,
   "id": "0560a7d4-a140-422e-9624-cf634d8b9919",
   "metadata": {},
   "outputs": [],
   "source": [
    "# Hapus kolom yang tidak digunakan\n",
    "df = df.drop(['birthYear', 'deathYear', 'primaryProfession', 'knownForTitles'], axis=1)"
   ]
  },
  {
   "cell_type": "code",
   "execution_count": 7,
   "id": "341f6066-0cc3-42d4-88fe-b3574cbddf73",
   "metadata": {},
   "outputs": [
    {
     "data": {
      "text/html": [
       "<div>\n",
       "<style scoped>\n",
       "    .dataframe tbody tr th:only-of-type {\n",
       "        vertical-align: middle;\n",
       "    }\n",
       "\n",
       "    .dataframe tbody tr th {\n",
       "        vertical-align: top;\n",
       "    }\n",
       "\n",
       "    .dataframe thead th {\n",
       "        text-align: right;\n",
       "    }\n",
       "</style>\n",
       "<table border=\"1\" class=\"dataframe\">\n",
       "  <thead>\n",
       "    <tr style=\"text-align: right;\">\n",
       "      <th></th>\n",
       "      <th>nconst</th>\n",
       "      <th>primaryName</th>\n",
       "    </tr>\n",
       "  </thead>\n",
       "  <tbody>\n",
       "    <tr>\n",
       "      <th>0</th>\n",
       "      <td>nm0000001</td>\n",
       "      <td>Fred Astaire</td>\n",
       "    </tr>\n",
       "    <tr>\n",
       "      <th>1</th>\n",
       "      <td>nm0000002</td>\n",
       "      <td>Lauren Bacall</td>\n",
       "    </tr>\n",
       "    <tr>\n",
       "      <th>2</th>\n",
       "      <td>nm0000003</td>\n",
       "      <td>Brigitte Bardot</td>\n",
       "    </tr>\n",
       "    <tr>\n",
       "      <th>3</th>\n",
       "      <td>nm0000004</td>\n",
       "      <td>John Belushi</td>\n",
       "    </tr>\n",
       "    <tr>\n",
       "      <th>4</th>\n",
       "      <td>nm0000005</td>\n",
       "      <td>Ingmar Bergman</td>\n",
       "    </tr>\n",
       "  </tbody>\n",
       "</table>\n",
       "</div>"
      ],
      "text/plain": [
       "      nconst      primaryName\n",
       "0  nm0000001     Fred Astaire\n",
       "1  nm0000002    Lauren Bacall\n",
       "2  nm0000003  Brigitte Bardot\n",
       "3  nm0000004     John Belushi\n",
       "4  nm0000005   Ingmar Bergman"
      ]
     },
     "execution_count": 7,
     "metadata": {},
     "output_type": "execute_result"
    }
   ],
   "source": [
    "df.head()"
   ]
  },
  {
   "cell_type": "code",
   "execution_count": 9,
   "id": "7f23ca12-58d5-4a19-8e13-7b125387f832",
   "metadata": {},
   "outputs": [
    {
     "data": {
      "text/html": [
       "<div>\n",
       "<style scoped>\n",
       "    .dataframe tbody tr th:only-of-type {\n",
       "        vertical-align: middle;\n",
       "    }\n",
       "\n",
       "    .dataframe tbody tr th {\n",
       "        vertical-align: top;\n",
       "    }\n",
       "\n",
       "    .dataframe thead th {\n",
       "        text-align: right;\n",
       "    }\n",
       "</style>\n",
       "<table border=\"1\" class=\"dataframe\">\n",
       "  <thead>\n",
       "    <tr style=\"text-align: right;\">\n",
       "      <th></th>\n",
       "      <th>nameID</th>\n",
       "      <th>name</th>\n",
       "    </tr>\n",
       "  </thead>\n",
       "  <tbody>\n",
       "    <tr>\n",
       "      <th>0</th>\n",
       "      <td>nm0000001</td>\n",
       "      <td>Fred Astaire</td>\n",
       "    </tr>\n",
       "    <tr>\n",
       "      <th>1</th>\n",
       "      <td>nm0000002</td>\n",
       "      <td>Lauren Bacall</td>\n",
       "    </tr>\n",
       "    <tr>\n",
       "      <th>2</th>\n",
       "      <td>nm0000003</td>\n",
       "      <td>Brigitte Bardot</td>\n",
       "    </tr>\n",
       "    <tr>\n",
       "      <th>3</th>\n",
       "      <td>nm0000004</td>\n",
       "      <td>John Belushi</td>\n",
       "    </tr>\n",
       "    <tr>\n",
       "      <th>4</th>\n",
       "      <td>nm0000005</td>\n",
       "      <td>Ingmar Bergman</td>\n",
       "    </tr>\n",
       "  </tbody>\n",
       "</table>\n",
       "</div>"
      ],
      "text/plain": [
       "      nameID             name\n",
       "0  nm0000001     Fred Astaire\n",
       "1  nm0000002    Lauren Bacall\n",
       "2  nm0000003  Brigitte Bardot\n",
       "3  nm0000004     John Belushi\n",
       "4  nm0000005   Ingmar Bergman"
      ]
     },
     "execution_count": 9,
     "metadata": {},
     "output_type": "execute_result"
    }
   ],
   "source": [
    "# Rename kolom\n",
    "df = df.rename(columns = {\"nconst\" : \"nameID\", \n",
    "                          \"primaryName\" : \"name\"})\n",
    "\n",
    "df.head()"
   ]
  },
  {
   "cell_type": "code",
   "execution_count": 11,
   "id": "7ed78c47-6450-41ea-99ec-9025657fa9de",
   "metadata": {},
   "outputs": [
    {
     "data": {
      "text/plain": [
       "(13990490, 2)"
      ]
     },
     "execution_count": 11,
     "metadata": {},
     "output_type": "execute_result"
    }
   ],
   "source": [
    "# Cek duplicates\n",
    "df.shape"
   ]
  },
  {
   "cell_type": "code",
   "execution_count": 13,
   "id": "c22a03ee-f730-4dd0-bfd9-0c8412460d90",
   "metadata": {},
   "outputs": [
    {
     "data": {
      "text/html": [
       "<div>\n",
       "<style scoped>\n",
       "    .dataframe tbody tr th:only-of-type {\n",
       "        vertical-align: middle;\n",
       "    }\n",
       "\n",
       "    .dataframe tbody tr th {\n",
       "        vertical-align: top;\n",
       "    }\n",
       "\n",
       "    .dataframe thead th {\n",
       "        text-align: right;\n",
       "    }\n",
       "</style>\n",
       "<table border=\"1\" class=\"dataframe\">\n",
       "  <thead>\n",
       "    <tr style=\"text-align: right;\">\n",
       "      <th></th>\n",
       "      <th>nameID</th>\n",
       "      <th>name</th>\n",
       "    </tr>\n",
       "  </thead>\n",
       "  <tbody>\n",
       "  </tbody>\n",
       "</table>\n",
       "</div>"
      ],
      "text/plain": [
       "Empty DataFrame\n",
       "Columns: [nameID, name]\n",
       "Index: []"
      ]
     },
     "execution_count": 13,
     "metadata": {},
     "output_type": "execute_result"
    }
   ],
   "source": [
    "# Menunjukkan Duplicates\n",
    "df[df.duplicated()]"
   ]
  },
  {
   "cell_type": "code",
   "execution_count": null,
   "id": "add18fed-7218-4ea6-b433-6df1e35ae24a",
   "metadata": {},
   "outputs": [],
   "source": [
    "'''known from above there's no duplicates'''\n",
    "\n",
    "# Menghitung jumlah baris tiap kolom\n",
    "#df.count()\n",
    "\n",
    "# Membuang baris duplikat\n",
    "#df.drop_duplicates()"
   ]
  },
  {
   "cell_type": "code",
   "execution_count": 15,
   "id": "33f398e5-df0b-4379-9ca6-e3d008a6c498",
   "metadata": {},
   "outputs": [
    {
     "name": "stdout",
     "output_type": "stream",
     "text": [
      "nameID     0\n",
      "name      59\n",
      "dtype: int64\n"
     ]
    }
   ],
   "source": [
    "# Cek Missing Values\n",
    "print(df.isnull().sum())"
   ]
  },
  {
   "cell_type": "code",
   "execution_count": 17,
   "id": "3ce932a0-c887-4167-8965-4f655d7d5a19",
   "metadata": {},
   "outputs": [
    {
     "data": {
      "text/plain": [
       "nameID    13990431\n",
       "name      13990431\n",
       "dtype: int64"
      ]
     },
     "execution_count": 17,
     "metadata": {},
     "output_type": "execute_result"
    }
   ],
   "source": [
    "'''Ternyata ada missing value di nama, kita akan hapus'''\n",
    "\n",
    "df = df.dropna()\n",
    "df.count()"
   ]
  },
  {
   "cell_type": "code",
   "execution_count": null,
   "id": "98bb9277-6c8d-43c2-90ea-717421467232",
   "metadata": {},
   "outputs": [],
   "source": [
    "# Cek outlier dg boxplot\n",
    "#sns.boxplot(x=df['Nama kolom'])\n",
    "\n",
    "'''karena ini object, bukan numerical, maka skip bagian ini'''"
   ]
  },
  {
   "cell_type": "code",
   "execution_count": null,
   "id": "8f9847aa-e1a1-4cf1-9383-e6c2f0f931b1",
   "metadata": {},
   "outputs": [],
   "source": [
    "# Mengelim outlier dengan IQR\n",
    "Q1 = df.quantile(0.25)\n",
    "Q3 = df.quantile(0.75)\n",
    "IQR = Q3 - Q1\n",
    "print(IQR)"
   ]
  },
  {
   "cell_type": "code",
   "execution_count": null,
   "id": "5442590d-614f-46c3-a144-3d0fa515688b",
   "metadata": {},
   "outputs": [],
   "source": [
    "# Filter dataframe tanpa outlier\n",
    "df = df[~((df < (Q1 - 1.5 * IQR)) | (df > (Q3 + 1.5 * IQR) )). any(axis=1)]\n",
    "df.shape"
   ]
  },
  {
   "cell_type": "code",
   "execution_count": null,
   "id": "e53f57a3-2fb5-44ce-b742-e7b056bf8fa9",
   "metadata": {},
   "outputs": [],
   "source": [
    "'''Exploratory by Visualization'''\n",
    "\n",
    "'''skip juga karena bukan numerical'''"
   ]
  },
  {
   "cell_type": "code",
   "execution_count": null,
   "id": "981e3443-b622-4793-b93f-41280abc038e",
   "metadata": {},
   "outputs": [],
   "source": [
    "'''Export Dataframe'''\n",
    "\n",
    "# Export into CSV\n",
    "df.to_csv(\"C:/Users/HP/Desktop/Data IMDb/name.basics.csv\", index=False)"
   ]
  },
  {
   "cell_type": "code",
   "execution_count": null,
   "id": "5091a532-08b4-4050-a087-77465ca0ba8a",
   "metadata": {},
   "outputs": [],
   "source": []
  }
 ],
 "metadata": {
  "kernelspec": {
   "display_name": "Python 3 (ipykernel)",
   "language": "python",
   "name": "python3"
  },
  "language_info": {
   "codemirror_mode": {
    "name": "ipython",
    "version": 3
   },
   "file_extension": ".py",
   "mimetype": "text/x-python",
   "name": "python",
   "nbconvert_exporter": "python",
   "pygments_lexer": "ipython3",
   "version": "3.12.7"
  }
 },
 "nbformat": 4,
 "nbformat_minor": 5
}
