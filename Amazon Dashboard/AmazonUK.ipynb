{
 "cells": [
  {
   "cell_type": "code",
   "execution_count": 1,
   "id": "6e026196-31df-47ab-a2a8-9ef4a710454e",
   "metadata": {},
   "outputs": [],
   "source": [
    "# import Library yang dibutuhkan\n",
    "import pandas as pd                   #dataframe manipulation\n",
    "import numpy as np                    #scientific camputing\n",
    "import seaborn as sns                 #visualization\n",
    "import matplotlib.pyplot as plt       #visualization\n",
    "%matplotlib inline\n",
    "sns.set(color_codes=True)\n",
    "\n",
    "import warnings\n",
    "warnings.filterwarnings('ignore')"
   ]
  },
  {
   "cell_type": "code",
   "execution_count": 23,
   "id": "48a2f894-aa16-465c-b065-0233d2dc8fa6",
   "metadata": {},
   "outputs": [
    {
     "data": {
      "text/html": [
       "<div>\n",
       "<style scoped>\n",
       "    .dataframe tbody tr th:only-of-type {\n",
       "        vertical-align: middle;\n",
       "    }\n",
       "\n",
       "    .dataframe tbody tr th {\n",
       "        vertical-align: top;\n",
       "    }\n",
       "\n",
       "    .dataframe thead th {\n",
       "        text-align: right;\n",
       "    }\n",
       "</style>\n",
       "<table border=\"1\" class=\"dataframe\">\n",
       "  <thead>\n",
       "    <tr style=\"text-align: right;\">\n",
       "      <th></th>\n",
       "      <th>asin</th>\n",
       "      <th>title</th>\n",
       "      <th>imgUrl</th>\n",
       "      <th>productURL</th>\n",
       "      <th>stars</th>\n",
       "      <th>reviews</th>\n",
       "      <th>price</th>\n",
       "      <th>isBestSeller</th>\n",
       "      <th>boughtInLastMonth</th>\n",
       "      <th>categoryName</th>\n",
       "    </tr>\n",
       "  </thead>\n",
       "  <tbody>\n",
       "    <tr>\n",
       "      <th>0</th>\n",
       "      <td>B09B96TG33</td>\n",
       "      <td>Echo Dot (5th generation, 2022 release) | Big ...</td>\n",
       "      <td>https://m.media-amazon.com/images/I/71C3lbbeLs...</td>\n",
       "      <td>https://www.amazon.co.uk/dp/B09B96TG33</td>\n",
       "      <td>4.7</td>\n",
       "      <td>15308</td>\n",
       "      <td>21.99</td>\n",
       "      <td>False</td>\n",
       "      <td>0</td>\n",
       "      <td>Hi-Fi Speakers</td>\n",
       "    </tr>\n",
       "    <tr>\n",
       "      <th>1</th>\n",
       "      <td>B01HTH3C8S</td>\n",
       "      <td>Anker Soundcore mini, Super-Portable Bluetooth...</td>\n",
       "      <td>https://m.media-amazon.com/images/I/61c5rSxwP0...</td>\n",
       "      <td>https://www.amazon.co.uk/dp/B01HTH3C8S</td>\n",
       "      <td>4.7</td>\n",
       "      <td>98099</td>\n",
       "      <td>23.99</td>\n",
       "      <td>True</td>\n",
       "      <td>0</td>\n",
       "      <td>Hi-Fi Speakers</td>\n",
       "    </tr>\n",
       "    <tr>\n",
       "      <th>2</th>\n",
       "      <td>B09B8YWXDF</td>\n",
       "      <td>Echo Dot (5th generation, 2022 release) | Big ...</td>\n",
       "      <td>https://m.media-amazon.com/images/I/61j3SEUjMJ...</td>\n",
       "      <td>https://www.amazon.co.uk/dp/B09B8YWXDF</td>\n",
       "      <td>4.7</td>\n",
       "      <td>15308</td>\n",
       "      <td>21.99</td>\n",
       "      <td>False</td>\n",
       "      <td>0</td>\n",
       "      <td>Hi-Fi Speakers</td>\n",
       "    </tr>\n",
       "    <tr>\n",
       "      <th>3</th>\n",
       "      <td>B09B8T5VGV</td>\n",
       "      <td>Echo Dot with clock (5th generation, 2022 rele...</td>\n",
       "      <td>https://m.media-amazon.com/images/I/71yf6yTNWS...</td>\n",
       "      <td>https://www.amazon.co.uk/dp/B09B8T5VGV</td>\n",
       "      <td>4.7</td>\n",
       "      <td>7205</td>\n",
       "      <td>31.99</td>\n",
       "      <td>False</td>\n",
       "      <td>0</td>\n",
       "      <td>Hi-Fi Speakers</td>\n",
       "    </tr>\n",
       "    <tr>\n",
       "      <th>4</th>\n",
       "      <td>B09WX6QD65</td>\n",
       "      <td>Introducing Echo Pop | Full sound compact Wi-F...</td>\n",
       "      <td>https://m.media-amazon.com/images/I/613dEoF9-r...</td>\n",
       "      <td>https://www.amazon.co.uk/dp/B09WX6QD65</td>\n",
       "      <td>4.6</td>\n",
       "      <td>1881</td>\n",
       "      <td>17.99</td>\n",
       "      <td>False</td>\n",
       "      <td>0</td>\n",
       "      <td>Hi-Fi Speakers</td>\n",
       "    </tr>\n",
       "  </tbody>\n",
       "</table>\n",
       "</div>"
      ],
      "text/plain": [
       "         asin                                              title  \\\n",
       "0  B09B96TG33  Echo Dot (5th generation, 2022 release) | Big ...   \n",
       "1  B01HTH3C8S  Anker Soundcore mini, Super-Portable Bluetooth...   \n",
       "2  B09B8YWXDF  Echo Dot (5th generation, 2022 release) | Big ...   \n",
       "3  B09B8T5VGV  Echo Dot with clock (5th generation, 2022 rele...   \n",
       "4  B09WX6QD65  Introducing Echo Pop | Full sound compact Wi-F...   \n",
       "\n",
       "                                              imgUrl  \\\n",
       "0  https://m.media-amazon.com/images/I/71C3lbbeLs...   \n",
       "1  https://m.media-amazon.com/images/I/61c5rSxwP0...   \n",
       "2  https://m.media-amazon.com/images/I/61j3SEUjMJ...   \n",
       "3  https://m.media-amazon.com/images/I/71yf6yTNWS...   \n",
       "4  https://m.media-amazon.com/images/I/613dEoF9-r...   \n",
       "\n",
       "                               productURL  stars  reviews  price  \\\n",
       "0  https://www.amazon.co.uk/dp/B09B96TG33    4.7    15308  21.99   \n",
       "1  https://www.amazon.co.uk/dp/B01HTH3C8S    4.7    98099  23.99   \n",
       "2  https://www.amazon.co.uk/dp/B09B8YWXDF    4.7    15308  21.99   \n",
       "3  https://www.amazon.co.uk/dp/B09B8T5VGV    4.7     7205  31.99   \n",
       "4  https://www.amazon.co.uk/dp/B09WX6QD65    4.6     1881  17.99   \n",
       "\n",
       "   isBestSeller  boughtInLastMonth    categoryName  \n",
       "0         False                  0  Hi-Fi Speakers  \n",
       "1          True                  0  Hi-Fi Speakers  \n",
       "2         False                  0  Hi-Fi Speakers  \n",
       "3         False                  0  Hi-Fi Speakers  \n",
       "4         False                  0  Hi-Fi Speakers  "
      ]
     },
     "execution_count": 23,
     "metadata": {},
     "output_type": "execute_result"
    }
   ],
   "source": [
    "# import csv\n",
    "uk = pd.read_csv(\"C:/Users/HP/Desktop/Data Amazon/amz_uk.csv\") \n",
    "\n",
    "uk.head()"
   ]
  },
  {
   "cell_type": "code",
   "execution_count": 25,
   "id": "54518486-2918-4d2e-8e62-4dc4c34423f9",
   "metadata": {},
   "outputs": [
    {
     "data": {
      "text/html": [
       "<div>\n",
       "<style scoped>\n",
       "    .dataframe tbody tr th:only-of-type {\n",
       "        vertical-align: middle;\n",
       "    }\n",
       "\n",
       "    .dataframe tbody tr th {\n",
       "        vertical-align: top;\n",
       "    }\n",
       "\n",
       "    .dataframe thead th {\n",
       "        text-align: right;\n",
       "    }\n",
       "</style>\n",
       "<table border=\"1\" class=\"dataframe\">\n",
       "  <thead>\n",
       "    <tr style=\"text-align: right;\">\n",
       "      <th></th>\n",
       "      <th>asin</th>\n",
       "      <th>title</th>\n",
       "      <th>stars</th>\n",
       "      <th>reviews</th>\n",
       "      <th>price</th>\n",
       "      <th>isBestSeller</th>\n",
       "      <th>boughtInLastMonth</th>\n",
       "      <th>categoryName</th>\n",
       "    </tr>\n",
       "  </thead>\n",
       "  <tbody>\n",
       "    <tr>\n",
       "      <th>0</th>\n",
       "      <td>B09B96TG33</td>\n",
       "      <td>Echo Dot (5th generation, 2022 release) | Big ...</td>\n",
       "      <td>4.7</td>\n",
       "      <td>15308</td>\n",
       "      <td>21.99</td>\n",
       "      <td>False</td>\n",
       "      <td>0</td>\n",
       "      <td>Hi-Fi Speakers</td>\n",
       "    </tr>\n",
       "    <tr>\n",
       "      <th>1</th>\n",
       "      <td>B01HTH3C8S</td>\n",
       "      <td>Anker Soundcore mini, Super-Portable Bluetooth...</td>\n",
       "      <td>4.7</td>\n",
       "      <td>98099</td>\n",
       "      <td>23.99</td>\n",
       "      <td>True</td>\n",
       "      <td>0</td>\n",
       "      <td>Hi-Fi Speakers</td>\n",
       "    </tr>\n",
       "    <tr>\n",
       "      <th>2</th>\n",
       "      <td>B09B8YWXDF</td>\n",
       "      <td>Echo Dot (5th generation, 2022 release) | Big ...</td>\n",
       "      <td>4.7</td>\n",
       "      <td>15308</td>\n",
       "      <td>21.99</td>\n",
       "      <td>False</td>\n",
       "      <td>0</td>\n",
       "      <td>Hi-Fi Speakers</td>\n",
       "    </tr>\n",
       "    <tr>\n",
       "      <th>3</th>\n",
       "      <td>B09B8T5VGV</td>\n",
       "      <td>Echo Dot with clock (5th generation, 2022 rele...</td>\n",
       "      <td>4.7</td>\n",
       "      <td>7205</td>\n",
       "      <td>31.99</td>\n",
       "      <td>False</td>\n",
       "      <td>0</td>\n",
       "      <td>Hi-Fi Speakers</td>\n",
       "    </tr>\n",
       "    <tr>\n",
       "      <th>4</th>\n",
       "      <td>B09WX6QD65</td>\n",
       "      <td>Introducing Echo Pop | Full sound compact Wi-F...</td>\n",
       "      <td>4.6</td>\n",
       "      <td>1881</td>\n",
       "      <td>17.99</td>\n",
       "      <td>False</td>\n",
       "      <td>0</td>\n",
       "      <td>Hi-Fi Speakers</td>\n",
       "    </tr>\n",
       "  </tbody>\n",
       "</table>\n",
       "</div>"
      ],
      "text/plain": [
       "         asin                                              title  stars  \\\n",
       "0  B09B96TG33  Echo Dot (5th generation, 2022 release) | Big ...    4.7   \n",
       "1  B01HTH3C8S  Anker Soundcore mini, Super-Portable Bluetooth...    4.7   \n",
       "2  B09B8YWXDF  Echo Dot (5th generation, 2022 release) | Big ...    4.7   \n",
       "3  B09B8T5VGV  Echo Dot with clock (5th generation, 2022 rele...    4.7   \n",
       "4  B09WX6QD65  Introducing Echo Pop | Full sound compact Wi-F...    4.6   \n",
       "\n",
       "   reviews  price  isBestSeller  boughtInLastMonth    categoryName  \n",
       "0    15308  21.99         False                  0  Hi-Fi Speakers  \n",
       "1    98099  23.99          True                  0  Hi-Fi Speakers  \n",
       "2    15308  21.99         False                  0  Hi-Fi Speakers  \n",
       "3     7205  31.99         False                  0  Hi-Fi Speakers  \n",
       "4     1881  17.99         False                  0  Hi-Fi Speakers  "
      ]
     },
     "execution_count": 25,
     "metadata": {},
     "output_type": "execute_result"
    }
   ],
   "source": [
    "# Hapus kolom yang tidak digunakan\n",
    "uk = uk.drop(['imgUrl', 'productURL'], axis=1)\n",
    "\n",
    "uk.head()"
   ]
  },
  {
   "cell_type": "code",
   "execution_count": 31,
   "id": "e830b399-2d84-4477-a98a-bb925267e06e",
   "metadata": {},
   "outputs": [
    {
     "data": {
      "text/html": [
       "<div>\n",
       "<style scoped>\n",
       "    .dataframe tbody tr th:only-of-type {\n",
       "        vertical-align: middle;\n",
       "    }\n",
       "\n",
       "    .dataframe tbody tr th {\n",
       "        vertical-align: top;\n",
       "    }\n",
       "\n",
       "    .dataframe thead th {\n",
       "        text-align: right;\n",
       "    }\n",
       "</style>\n",
       "<table border=\"1\" class=\"dataframe\">\n",
       "  <thead>\n",
       "    <tr style=\"text-align: right;\">\n",
       "      <th></th>\n",
       "      <th>ID</th>\n",
       "      <th>name</th>\n",
       "      <th>rating</th>\n",
       "      <th>reviewCount</th>\n",
       "      <th>price</th>\n",
       "      <th>isBestSeller</th>\n",
       "      <th>quantity</th>\n",
       "      <th>categoryName</th>\n",
       "    </tr>\n",
       "  </thead>\n",
       "  <tbody>\n",
       "    <tr>\n",
       "      <th>0</th>\n",
       "      <td>B09B96TG33</td>\n",
       "      <td>Echo Dot (5th generation, 2022 release) | Big ...</td>\n",
       "      <td>4.7</td>\n",
       "      <td>15308</td>\n",
       "      <td>21.99</td>\n",
       "      <td>False</td>\n",
       "      <td>0</td>\n",
       "      <td>Hi-Fi Speakers</td>\n",
       "    </tr>\n",
       "    <tr>\n",
       "      <th>1</th>\n",
       "      <td>B01HTH3C8S</td>\n",
       "      <td>Anker Soundcore mini, Super-Portable Bluetooth...</td>\n",
       "      <td>4.7</td>\n",
       "      <td>98099</td>\n",
       "      <td>23.99</td>\n",
       "      <td>True</td>\n",
       "      <td>0</td>\n",
       "      <td>Hi-Fi Speakers</td>\n",
       "    </tr>\n",
       "    <tr>\n",
       "      <th>2</th>\n",
       "      <td>B09B8YWXDF</td>\n",
       "      <td>Echo Dot (5th generation, 2022 release) | Big ...</td>\n",
       "      <td>4.7</td>\n",
       "      <td>15308</td>\n",
       "      <td>21.99</td>\n",
       "      <td>False</td>\n",
       "      <td>0</td>\n",
       "      <td>Hi-Fi Speakers</td>\n",
       "    </tr>\n",
       "    <tr>\n",
       "      <th>3</th>\n",
       "      <td>B09B8T5VGV</td>\n",
       "      <td>Echo Dot with clock (5th generation, 2022 rele...</td>\n",
       "      <td>4.7</td>\n",
       "      <td>7205</td>\n",
       "      <td>31.99</td>\n",
       "      <td>False</td>\n",
       "      <td>0</td>\n",
       "      <td>Hi-Fi Speakers</td>\n",
       "    </tr>\n",
       "    <tr>\n",
       "      <th>4</th>\n",
       "      <td>B09WX6QD65</td>\n",
       "      <td>Introducing Echo Pop | Full sound compact Wi-F...</td>\n",
       "      <td>4.6</td>\n",
       "      <td>1881</td>\n",
       "      <td>17.99</td>\n",
       "      <td>False</td>\n",
       "      <td>0</td>\n",
       "      <td>Hi-Fi Speakers</td>\n",
       "    </tr>\n",
       "  </tbody>\n",
       "</table>\n",
       "</div>"
      ],
      "text/plain": [
       "           ID                                               name  rating  \\\n",
       "0  B09B96TG33  Echo Dot (5th generation, 2022 release) | Big ...     4.7   \n",
       "1  B01HTH3C8S  Anker Soundcore mini, Super-Portable Bluetooth...     4.7   \n",
       "2  B09B8YWXDF  Echo Dot (5th generation, 2022 release) | Big ...     4.7   \n",
       "3  B09B8T5VGV  Echo Dot with clock (5th generation, 2022 rele...     4.7   \n",
       "4  B09WX6QD65  Introducing Echo Pop | Full sound compact Wi-F...     4.6   \n",
       "\n",
       "   reviewCount  price  isBestSeller  quantity    categoryName  \n",
       "0        15308  21.99         False         0  Hi-Fi Speakers  \n",
       "1        98099  23.99          True         0  Hi-Fi Speakers  \n",
       "2        15308  21.99         False         0  Hi-Fi Speakers  \n",
       "3         7205  31.99         False         0  Hi-Fi Speakers  \n",
       "4         1881  17.99         False         0  Hi-Fi Speakers  "
      ]
     },
     "execution_count": 31,
     "metadata": {},
     "output_type": "execute_result"
    }
   ],
   "source": [
    "# Rename kolom\n",
    "uk = uk.rename(columns = {\"asin\" : \"ID\", \n",
    "                          \"title\" : \"name\",\n",
    "                         \"stars\" : \"rating\",\n",
    "                         \"reviews\" : \"reviewCount\",\n",
    "                         \"boughtInLastMonth\" : \"quantity\"})\n",
    "\n",
    "uk.head()"
   ]
  },
  {
   "cell_type": "code",
   "execution_count": 35,
   "id": "7ae3a173-5762-4671-b78d-6dda4d561ff2",
   "metadata": {},
   "outputs": [
    {
     "data": {
      "text/html": [
       "<div>\n",
       "<style scoped>\n",
       "    .dataframe tbody tr th:only-of-type {\n",
       "        vertical-align: middle;\n",
       "    }\n",
       "\n",
       "    .dataframe tbody tr th {\n",
       "        vertical-align: top;\n",
       "    }\n",
       "\n",
       "    .dataframe thead th {\n",
       "        text-align: right;\n",
       "    }\n",
       "</style>\n",
       "<table border=\"1\" class=\"dataframe\">\n",
       "  <thead>\n",
       "    <tr style=\"text-align: right;\">\n",
       "      <th></th>\n",
       "      <th>ID</th>\n",
       "      <th>name</th>\n",
       "      <th>rating</th>\n",
       "      <th>reviewCount</th>\n",
       "      <th>price</th>\n",
       "      <th>isBestSeller</th>\n",
       "      <th>quantity</th>\n",
       "      <th>categoryName</th>\n",
       "    </tr>\n",
       "  </thead>\n",
       "  <tbody>\n",
       "  </tbody>\n",
       "</table>\n",
       "</div>"
      ],
      "text/plain": [
       "Empty DataFrame\n",
       "Columns: [ID, name, rating, reviewCount, price, isBestSeller, quantity, categoryName]\n",
       "Index: []"
      ]
     },
     "execution_count": 35,
     "metadata": {},
     "output_type": "execute_result"
    }
   ],
   "source": [
    "# Menunjukkan Duplicates\n",
    "uk[uk.duplicated()]"
   ]
  },
  {
   "cell_type": "code",
   "execution_count": 37,
   "id": "bd9d68ed-68dc-4bcc-b060-b66ca87f64dd",
   "metadata": {},
   "outputs": [
    {
     "name": "stdout",
     "output_type": "stream",
     "text": [
      "ID              0\n",
      "name            0\n",
      "rating          0\n",
      "reviewCount     0\n",
      "price           0\n",
      "isBestSeller    0\n",
      "quantity        0\n",
      "categoryName    0\n",
      "dtype: int64\n"
     ]
    }
   ],
   "source": [
    "# Cek Missing Values\n",
    "print(uk.isnull().sum())"
   ]
  },
  {
   "cell_type": "code",
   "execution_count": 41,
   "id": "84946534-149b-4f2c-acbe-996f918f6530",
   "metadata": {},
   "outputs": [
    {
     "data": {
      "text/plain": [
       "quantity\n",
       "0        2061427\n",
       "50         63601\n",
       "100        44173\n",
       "200        17509\n",
       "300         9523\n",
       "400         5996\n",
       "1000        5424\n",
       "500         4059\n",
       "600         2815\n",
       "700         2030\n",
       "800         1594\n",
       "2000        1521\n",
       "900         1320\n",
       "3000         675\n",
       "4000         348\n",
       "5000         227\n",
       "10000        139\n",
       "6000         136\n",
       "7000          91\n",
       "8000          59\n",
       "9000          56\n",
       "20000         14\n",
       "50000          2\n",
       "30000          2\n",
       "40000          1\n",
       "Name: count, dtype: int64"
      ]
     },
     "execution_count": 41,
     "metadata": {},
     "output_type": "execute_result"
    }
   ],
   "source": [
    "'''Yang NaN ga ada, tapi banyak yang 0'''\n",
    "\n",
    "#Cek dari frekuensi & histogram\n",
    "uk['quantity'].value_counts()"
   ]
  },
  {
   "cell_type": "code",
   "execution_count": 55,
   "id": "4e4e44da-fd6b-4027-9662-8514ee8c24b1",
   "metadata": {},
   "outputs": [
    {
     "data": {
      "image/png": "[encoded data removed]",
      "text/plain": [
       "<Figure size 400x200 with 1 Axes>"
      ]
     },
     "metadata": {},
     "output_type": "display_data"
    }
   ],
   "source": [
    "# Histogram untuk memperjelas persebaran data\n",
    "plt.figure(figsize=(4, 2))\n",
    "plt.hist(uk['quantity'], bins=10, color='skyblue', edgecolor='black')\n",
    "plt.xlabel('quantity')\n",
    "plt.show()"
   ]
  },
  {
   "cell_type": "code",
   "execution_count": 69,
   "id": "dca7f7f7-289c-481e-adc5-d9a431c534e0",
   "metadata": {},
   "outputs": [
    {
     "data": {
      "image/png": "[encoded data removed]",
      "text/plain": [
       "<Figure size 400x200 with 1 Axes>"
      ]
     },
     "metadata": {},
     "output_type": "display_data"
    }
   ],
   "source": [
    "''' Quantity 0 terlalu banyak, akan dihapus '''\n",
    "\n",
    "# Cek data Price\n",
    "plt.figure(figsize=(4, 2))\n",
    "plt.hist(uk['price'], bins=10, color='skyblue', edgecolor='black')\n",
    "plt.xlabel('price')\n",
    "plt.show()"
   ]
  },
  {
   "cell_type": "code",
   "execution_count": 71,
   "id": "7eb64c07-847b-4a3e-90d1-8ba190bb032a",
   "metadata": {},
   "outputs": [
    {
     "data": {
      "text/plain": [
       "quantity\n",
       "50       63601\n",
       "100      44173\n",
       "200      17509\n",
       "300       9523\n",
       "400       5996\n",
       "1000      5424\n",
       "500       4059\n",
       "600       2815\n",
       "700       2030\n",
       "800       1594\n",
       "2000      1521\n",
       "900       1320\n",
       "3000       675\n",
       "4000       348\n",
       "5000       227\n",
       "10000      139\n",
       "6000       136\n",
       "7000        91\n",
       "8000        59\n",
       "9000        56\n",
       "20000       14\n",
       "50000        2\n",
       "30000        2\n",
       "40000        1\n",
       "Name: count, dtype: int64"
      ]
     },
     "execution_count": 71,
     "metadata": {},
     "output_type": "execute_result"
    }
   ],
   "source": [
    "# Hapus baris di mana kolom 'price' atau 'quantity' mengandung 0\n",
    "uk = uk[(uk['price'] != 0) & (uk['quantity'] != 0)].dropna()\n",
    "\n",
    "uk['quantity'].value_counts()"
   ]
  },
  {
   "cell_type": "code",
   "execution_count": 73,
   "id": "e64812d6-ce86-4628-83cf-20b6142077b9",
   "metadata": {},
   "outputs": [
    {
     "data": {
      "text/plain": [
       "ID              161315\n",
       "name            161315\n",
       "rating          161315\n",
       "reviewCount     161315\n",
       "price           161315\n",
       "isBestSeller    161315\n",
       "quantity        161315\n",
       "categoryName    161315\n",
       "dtype: int64"
      ]
     },
     "execution_count": 73,
     "metadata": {},
     "output_type": "execute_result"
    }
   ],
   "source": [
    "uk.count()"
   ]
  },
  {
   "cell_type": "code",
   "execution_count": 87,
   "id": "0873e832-d0cb-480a-8a15-cc8fda8b06c8",
   "metadata": {},
   "outputs": [
    {
     "data": {
      "image/png": "[encoded data removed]",
      "text/plain": [
       "<Figure size 640x480 with 1 Axes>"
      ]
     },
     "metadata": {},
     "output_type": "display_data"
    }
   ],
   "source": [
    "# Cek outlier\n",
    "sns.boxplot(x=uk['quantity'])\n",
    "plt.show()"
   ]
  },
  {
   "cell_type": "code",
   "execution_count": 103,
   "id": "60e8a6bd-7777-4667-815f-6963ba21bb0c",
   "metadata": {},
   "outputs": [
    {
     "data": {
      "text/plain": [
       "(140802, 8)"
      ]
     },
     "execution_count": 103,
     "metadata": {},
     "output_type": "execute_result"
    }
   ],
   "source": [
    "'''range quantity dibatasi 400'''\n",
    "uk = uk[uk['quantity'] <= 400]\n",
    "uk.shape"
   ]
  },
  {
   "cell_type": "code",
   "execution_count": 107,
   "id": "bf8a27bd-c5aa-49c3-b31e-e917176b6901",
   "metadata": {},
   "outputs": [
    {
     "data": {
      "image/png": "[encoded data removed]",
      "text/plain": [
       "<Figure size 640x480 with 1 Axes>"
      ]
     },
     "metadata": {},
     "output_type": "display_data"
    }
   ],
   "source": [
    "# Setelah outlier quantity dibuang\n",
    "sns.boxplot(x=uk['quantity'])\n",
    "plt.show()"
   ]
  },
  {
   "cell_type": "code",
   "execution_count": 109,
   "id": "8b8952bf-5879-492b-b065-258fa80734d0",
   "metadata": {},
   "outputs": [
    {
     "data": {
      "image/png": "[encoded data removed]",
      "text/plain": [
       "<Figure size 640x480 with 1 Axes>"
      ]
     },
     "metadata": {},
     "output_type": "display_data"
    }
   ],
   "source": [
    "# Cek outlier price\n",
    "sns.boxplot(x=uk['price'])\n",
    "plt.show()"
   ]
  },
  {
   "cell_type": "code",
   "execution_count": 111,
   "id": "073e602a-e986-43c8-9e54-dfd4b0a8cab7",
   "metadata": {},
   "outputs": [
    {
     "data": {
      "text/plain": [
       "price\n",
       "9.99     6168\n",
       "6.99     4286\n",
       "8.99     3978\n",
       "7.99     3905\n",
       "5.99     3822\n",
       "         ... \n",
       "72.59       1\n",
       "52.24       1\n",
       "37.14       1\n",
       "44.03       1\n",
       "49.91       1\n",
       "Name: count, Length: 5668, dtype: int64"
      ]
     },
     "execution_count": 111,
     "metadata": {},
     "output_type": "execute_result"
    }
   ],
   "source": [
    "uk['price'].value_counts()"
   ]
  },
  {
   "cell_type": "code",
   "execution_count": 115,
   "id": "3ef660be-69d1-4fe2-b0e6-3951024fb526",
   "metadata": {},
   "outputs": [
    {
     "data": {
      "text/html": [
       "<div>\n",
       "<style scoped>\n",
       "    .dataframe tbody tr th:only-of-type {\n",
       "        vertical-align: middle;\n",
       "    }\n",
       "\n",
       "    .dataframe tbody tr th {\n",
       "        vertical-align: top;\n",
       "    }\n",
       "\n",
       "    .dataframe thead th {\n",
       "        text-align: right;\n",
       "    }\n",
       "</style>\n",
       "<table border=\"1\" class=\"dataframe\">\n",
       "  <thead>\n",
       "    <tr style=\"text-align: right;\">\n",
       "      <th></th>\n",
       "      <th>ID</th>\n",
       "      <th>name</th>\n",
       "      <th>rating</th>\n",
       "      <th>reviewCount</th>\n",
       "      <th>price</th>\n",
       "      <th>isBestSeller</th>\n",
       "      <th>quantity</th>\n",
       "      <th>categoryName</th>\n",
       "      <th>city</th>\n",
       "    </tr>\n",
       "  </thead>\n",
       "  <tbody>\n",
       "    <tr>\n",
       "      <th>92</th>\n",
       "      <td>B083K77PZL</td>\n",
       "      <td>W-KING Bluetooth Speaker, 50W Speakers Wireles...</td>\n",
       "      <td>4.6</td>\n",
       "      <td>2979</td>\n",
       "      <td>65.59</td>\n",
       "      <td>False</td>\n",
       "      <td>200</td>\n",
       "      <td>Hi-Fi Speakers</td>\n",
       "      <td>Manchester</td>\n",
       "    </tr>\n",
       "    <tr>\n",
       "      <th>143</th>\n",
       "      <td>B09J47Y789</td>\n",
       "      <td>XSOUND Portable Bluetooth Speaker Wireless 24W...</td>\n",
       "      <td>4.4</td>\n",
       "      <td>804</td>\n",
       "      <td>22.99</td>\n",
       "      <td>False</td>\n",
       "      <td>200</td>\n",
       "      <td>Hi-Fi Speakers</td>\n",
       "      <td>Manchester</td>\n",
       "    </tr>\n",
       "    <tr>\n",
       "      <th>160</th>\n",
       "      <td>B08FCDFHLB</td>\n",
       "      <td>soundcore Anker Mini 3 Bluetooth Speaker, Bass...</td>\n",
       "      <td>4.7</td>\n",
       "      <td>3208</td>\n",
       "      <td>34.99</td>\n",
       "      <td>False</td>\n",
       "      <td>200</td>\n",
       "      <td>Hi-Fi Speakers</td>\n",
       "      <td>Manchester</td>\n",
       "    </tr>\n",
       "    <tr>\n",
       "      <th>229</th>\n",
       "      <td>B096TJ6FXD</td>\n",
       "      <td>HEYSONG Shower Speaker, Waterpoof Portable Blu...</td>\n",
       "      <td>4.3</td>\n",
       "      <td>1279</td>\n",
       "      <td>21.99</td>\n",
       "      <td>False</td>\n",
       "      <td>100</td>\n",
       "      <td>Hi-Fi Speakers</td>\n",
       "      <td>Edinburgh</td>\n",
       "    </tr>\n",
       "    <tr>\n",
       "      <th>261</th>\n",
       "      <td>B08ZJ6DQNY</td>\n",
       "      <td>Sony SRS-XB13 Wireless Extra Bass Portable Com...</td>\n",
       "      <td>4.3</td>\n",
       "      <td>15963</td>\n",
       "      <td>39.90</td>\n",
       "      <td>False</td>\n",
       "      <td>100</td>\n",
       "      <td>Hi-Fi Speakers</td>\n",
       "      <td>Leeds</td>\n",
       "    </tr>\n",
       "  </tbody>\n",
       "</table>\n",
       "</div>"
      ],
      "text/plain": [
       "             ID                                               name  rating  \\\n",
       "92   B083K77PZL  W-KING Bluetooth Speaker, 50W Speakers Wireles...     4.6   \n",
       "143  B09J47Y789  XSOUND Portable Bluetooth Speaker Wireless 24W...     4.4   \n",
       "160  B08FCDFHLB  soundcore Anker Mini 3 Bluetooth Speaker, Bass...     4.7   \n",
       "229  B096TJ6FXD  HEYSONG Shower Speaker, Waterpoof Portable Blu...     4.3   \n",
       "261  B08ZJ6DQNY  Sony SRS-XB13 Wireless Extra Bass Portable Com...     4.3   \n",
       "\n",
       "     reviewCount  price  isBestSeller  quantity    categoryName        city  \n",
       "92          2979  65.59         False       200  Hi-Fi Speakers  Manchester  \n",
       "143          804  22.99         False       200  Hi-Fi Speakers  Manchester  \n",
       "160         3208  34.99         False       200  Hi-Fi Speakers  Manchester  \n",
       "229         1279  21.99         False       100  Hi-Fi Speakers   Edinburgh  \n",
       "261        15963  39.90         False       100  Hi-Fi Speakers       Leeds  "
      ]
     },
     "execution_count": 115,
     "metadata": {},
     "output_type": "execute_result"
    }
   ],
   "source": [
    "''' Generate new column (City) '''\n",
    "# Daftar kota populer UK dan probabilitas\n",
    "cities = ['London', 'Manchester', 'Birmingham', 'Leeds', 'Liverpool', \n",
    "          'Glasgow', 'Sheffield', 'Bradford', 'Edinburgh', 'Cardiff']\n",
    "\n",
    "# Probabilitas untuk setiap kota\n",
    "probabilities = [0.2, 0.15, 0.12, 0.1, 0.1, \n",
    "                 0.08, 0.08, 0.07, 0.05, 0.05]  # Total harus 1\n",
    "\n",
    "# Tambahkan kolom 'city' dengan nilai random berdasarkan probabilitas\n",
    "uk['city'] = np.random.choice(cities, size=len(uk), p=probabilities)\n",
    "\n",
    "uk.head()"
   ]
  },
  {
   "cell_type": "code",
   "execution_count": 119,
   "id": "c14dbc10-3a55-4944-ac37-117a23057cd2",
   "metadata": {},
   "outputs": [],
   "source": [
    "# Export into CSV\n",
    "uk.to_csv(\"C:/Users/HP/Desktop/Data Amazon/AmazonUK.csv\", index=False)"
   ]
  },
  {
   "cell_type": "code",
   "execution_count": null,
   "id": "402a4286-0bcf-475c-97a3-bafc46218444",
   "metadata": {},
   "outputs": [],
   "source": []
  }
 ],
 "metadata": {
  "kernelspec": {
   "display_name": "Python 3 (ipykernel)",
   "language": "python",
   "name": "python3"
  },
  "language_info": {
   "codemirror_mode": {
    "name": "ipython",
    "version": 3
   },
   "file_extension": ".py",
   "mimetype": "text/x-python",
   "name": "python",
   "nbconvert_exporter": "python",
   "pygments_lexer": "ipython3",
   "version": "3.12.7"
  }
 },
 "nbformat": 4,
 "nbformat_minor": 5
}
