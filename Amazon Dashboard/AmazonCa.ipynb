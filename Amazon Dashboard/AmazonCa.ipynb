{
 "cells": [
  {
   "cell_type": "code",
   "execution_count": 1,
   "id": "6e026196-31df-47ab-a2a8-9ef4a710454e",
   "metadata": {},
   "outputs": [],
   "source": [
    "# import Library yang dibutuhkan\n",
    "import pandas as pd                   #dataframe manipulation\n",
    "import numpy as np                    #scientific camputing\n",
    "import seaborn as sns                 #visualization\n",
    "import matplotlib.pyplot as plt       #visualization\n",
    "%matplotlib inline\n",
    "sns.set(color_codes=True)\n",
    "\n",
    "import warnings\n",
    "warnings.filterwarnings('ignore')"
   ]
  },
  {
   "cell_type": "code",
   "execution_count": 5,
   "id": "48a2f894-aa16-465c-b065-0233d2dc8fa6",
   "metadata": {},
   "outputs": [
    {
     "data": {
      "text/html": [
       "<div>\n",
       "<style scoped>\n",
       "    .dataframe tbody tr th:only-of-type {\n",
       "        vertical-align: middle;\n",
       "    }\n",
       "\n",
       "    .dataframe tbody tr th {\n",
       "        vertical-align: top;\n",
       "    }\n",
       "\n",
       "    .dataframe thead th {\n",
       "        text-align: right;\n",
       "    }\n",
       "</style>\n",
       "<table border=\"1\" class=\"dataframe\">\n",
       "  <thead>\n",
       "    <tr style=\"text-align: right;\">\n",
       "      <th></th>\n",
       "      <th>asin</th>\n",
       "      <th>title</th>\n",
       "      <th>imgUrl</th>\n",
       "      <th>productURL</th>\n",
       "      <th>stars</th>\n",
       "      <th>reviews</th>\n",
       "      <th>price</th>\n",
       "      <th>listPrice</th>\n",
       "      <th>categoryName</th>\n",
       "      <th>isBestSeller</th>\n",
       "      <th>boughtInLastMonth</th>\n",
       "    </tr>\n",
       "  </thead>\n",
       "  <tbody>\n",
       "    <tr>\n",
       "      <th>0</th>\n",
       "      <td>B07CV4L6HX</td>\n",
       "      <td>Green Leaf WW3D Wonder Extension Cord Winder, ...</td>\n",
       "      <td>https://m.media-amazon.com/images/I/81cRe0AVC4...</td>\n",
       "      <td>https://www.amazon.ca/dp/B07CV4L6HX</td>\n",
       "      <td>4.4</td>\n",
       "      <td>2876</td>\n",
       "      <td>47.69</td>\n",
       "      <td>0.00</td>\n",
       "      <td>Industrial  Scientific</td>\n",
       "      <td>False</td>\n",
       "      <td>0</td>\n",
       "    </tr>\n",
       "    <tr>\n",
       "      <th>1</th>\n",
       "      <td>B09N1HGY74</td>\n",
       "      <td>8pcs Toilet Seat Bumpers Universal Toilet Repl...</td>\n",
       "      <td>https://m.media-amazon.com/images/I/512CpB-EP5...</td>\n",
       "      <td>https://www.amazon.ca/dp/B09N1HGY74</td>\n",
       "      <td>3.8</td>\n",
       "      <td>55</td>\n",
       "      <td>10.99</td>\n",
       "      <td>0.00</td>\n",
       "      <td>Industrial  Scientific</td>\n",
       "      <td>False</td>\n",
       "      <td>100</td>\n",
       "    </tr>\n",
       "    <tr>\n",
       "      <th>2</th>\n",
       "      <td>B087P7538J</td>\n",
       "      <td>YaeCCC 19 Pcs Hole Saw Kit 3/4''(19mm)- 6''(15...</td>\n",
       "      <td>https://m.media-amazon.com/images/I/71P+qLFDFc...</td>\n",
       "      <td>https://www.amazon.ca/dp/B087P7538J</td>\n",
       "      <td>4.0</td>\n",
       "      <td>126</td>\n",
       "      <td>25.99</td>\n",
       "      <td>27.99</td>\n",
       "      <td>Industrial  Scientific</td>\n",
       "      <td>False</td>\n",
       "      <td>50</td>\n",
       "    </tr>\n",
       "    <tr>\n",
       "      <th>3</th>\n",
       "      <td>B0822FF7YQ</td>\n",
       "      <td>LLPT Butyl Putty Tape White 1 Inch x 33Ft Tigh...</td>\n",
       "      <td>https://m.media-amazon.com/images/I/61wfWLZRn-...</td>\n",
       "      <td>https://www.amazon.ca/dp/B0822FF7YQ</td>\n",
       "      <td>4.5</td>\n",
       "      <td>1936</td>\n",
       "      <td>21.99</td>\n",
       "      <td>30.99</td>\n",
       "      <td>Industrial  Scientific</td>\n",
       "      <td>False</td>\n",
       "      <td>100</td>\n",
       "    </tr>\n",
       "    <tr>\n",
       "      <th>4</th>\n",
       "      <td>B08NTR8NN4</td>\n",
       "      <td>Lightbeam 16\" Long Stem Deep Fry Thermometer w...</td>\n",
       "      <td>https://m.media-amazon.com/images/I/61qJG-y1He...</td>\n",
       "      <td>https://www.amazon.ca/dp/B08NTR8NN4</td>\n",
       "      <td>4.2</td>\n",
       "      <td>46</td>\n",
       "      <td>18.99</td>\n",
       "      <td>0.00</td>\n",
       "      <td>Industrial  Scientific</td>\n",
       "      <td>False</td>\n",
       "      <td>100</td>\n",
       "    </tr>\n",
       "  </tbody>\n",
       "</table>\n",
       "</div>"
      ],
      "text/plain": [
       "         asin                                              title  \\\n",
       "0  B07CV4L6HX  Green Leaf WW3D Wonder Extension Cord Winder, ...   \n",
       "1  B09N1HGY74  8pcs Toilet Seat Bumpers Universal Toilet Repl...   \n",
       "2  B087P7538J  YaeCCC 19 Pcs Hole Saw Kit 3/4''(19mm)- 6''(15...   \n",
       "3  B0822FF7YQ  LLPT Butyl Putty Tape White 1 Inch x 33Ft Tigh...   \n",
       "4  B08NTR8NN4  Lightbeam 16\" Long Stem Deep Fry Thermometer w...   \n",
       "\n",
       "                                              imgUrl  \\\n",
       "0  https://m.media-amazon.com/images/I/81cRe0AVC4...   \n",
       "1  https://m.media-amazon.com/images/I/512CpB-EP5...   \n",
       "2  https://m.media-amazon.com/images/I/71P+qLFDFc...   \n",
       "3  https://m.media-amazon.com/images/I/61wfWLZRn-...   \n",
       "4  https://m.media-amazon.com/images/I/61qJG-y1He...   \n",
       "\n",
       "                            productURL  stars  reviews  price  listPrice  \\\n",
       "0  https://www.amazon.ca/dp/B07CV4L6HX    4.4     2876  47.69       0.00   \n",
       "1  https://www.amazon.ca/dp/B09N1HGY74    3.8       55  10.99       0.00   \n",
       "2  https://www.amazon.ca/dp/B087P7538J    4.0      126  25.99      27.99   \n",
       "3  https://www.amazon.ca/dp/B0822FF7YQ    4.5     1936  21.99      30.99   \n",
       "4  https://www.amazon.ca/dp/B08NTR8NN4    4.2       46  18.99       0.00   \n",
       "\n",
       "             categoryName  isBestSeller  boughtInLastMonth  \n",
       "0  Industrial  Scientific         False                  0  \n",
       "1  Industrial  Scientific         False                100  \n",
       "2  Industrial  Scientific         False                 50  \n",
       "3  Industrial  Scientific         False                100  \n",
       "4  Industrial  Scientific         False                100  "
      ]
     },
     "execution_count": 5,
     "metadata": {},
     "output_type": "execute_result"
    }
   ],
   "source": [
    "# import csv\n",
    "ca = pd.read_csv(\"C:/Users/HP/Desktop/Data Amazon/amz_ca.csv\") \n",
    "\n",
    "ca.head()"
   ]
  },
  {
   "cell_type": "code",
   "execution_count": 9,
   "id": "6a9f9c32-d061-46f6-9edc-214f6944a4ad",
   "metadata": {},
   "outputs": [
    {
     "data": {
      "text/plain": [
       "listPrice\n",
       "0.00      1999277\n",
       "19.99        3602\n",
       "29.99        3112\n",
       "39.99        2729\n",
       "16.99        2444\n",
       "           ...   \n",
       "251.51          1\n",
       "144.25          1\n",
       "162.31          1\n",
       "127.23          1\n",
       "264.98          1\n",
       "Name: count, Length: 17129, dtype: int64"
      ]
     },
     "execution_count": 9,
     "metadata": {},
     "output_type": "execute_result"
    }
   ],
   "source": [
    "ca['listPrice'].value_counts()"
   ]
  },
  {
   "cell_type": "code",
   "execution_count": 11,
   "id": "403f92c6-92ca-43af-a093-9f281c9d3b0e",
   "metadata": {},
   "outputs": [
    {
     "data": {
      "text/plain": [
       "(2165926, 11)"
      ]
     },
     "execution_count": 11,
     "metadata": {},
     "output_type": "execute_result"
    }
   ],
   "source": [
    "ca.shape"
   ]
  },
  {
   "cell_type": "code",
   "execution_count": 13,
   "id": "54518486-2918-4d2e-8e62-4dc4c34423f9",
   "metadata": {},
   "outputs": [
    {
     "data": {
      "text/html": [
       "<div>\n",
       "<style scoped>\n",
       "    .dataframe tbody tr th:only-of-type {\n",
       "        vertical-align: middle;\n",
       "    }\n",
       "\n",
       "    .dataframe tbody tr th {\n",
       "        vertical-align: top;\n",
       "    }\n",
       "\n",
       "    .dataframe thead th {\n",
       "        text-align: right;\n",
       "    }\n",
       "</style>\n",
       "<table border=\"1\" class=\"dataframe\">\n",
       "  <thead>\n",
       "    <tr style=\"text-align: right;\">\n",
       "      <th></th>\n",
       "      <th>asin</th>\n",
       "      <th>title</th>\n",
       "      <th>stars</th>\n",
       "      <th>reviews</th>\n",
       "      <th>price</th>\n",
       "      <th>categoryName</th>\n",
       "      <th>isBestSeller</th>\n",
       "      <th>boughtInLastMonth</th>\n",
       "    </tr>\n",
       "  </thead>\n",
       "  <tbody>\n",
       "    <tr>\n",
       "      <th>0</th>\n",
       "      <td>B07CV4L6HX</td>\n",
       "      <td>Green Leaf WW3D Wonder Extension Cord Winder, ...</td>\n",
       "      <td>4.4</td>\n",
       "      <td>2876</td>\n",
       "      <td>47.69</td>\n",
       "      <td>Industrial  Scientific</td>\n",
       "      <td>False</td>\n",
       "      <td>0</td>\n",
       "    </tr>\n",
       "    <tr>\n",
       "      <th>1</th>\n",
       "      <td>B09N1HGY74</td>\n",
       "      <td>8pcs Toilet Seat Bumpers Universal Toilet Repl...</td>\n",
       "      <td>3.8</td>\n",
       "      <td>55</td>\n",
       "      <td>10.99</td>\n",
       "      <td>Industrial  Scientific</td>\n",
       "      <td>False</td>\n",
       "      <td>100</td>\n",
       "    </tr>\n",
       "    <tr>\n",
       "      <th>2</th>\n",
       "      <td>B087P7538J</td>\n",
       "      <td>YaeCCC 19 Pcs Hole Saw Kit 3/4''(19mm)- 6''(15...</td>\n",
       "      <td>4.0</td>\n",
       "      <td>126</td>\n",
       "      <td>25.99</td>\n",
       "      <td>Industrial  Scientific</td>\n",
       "      <td>False</td>\n",
       "      <td>50</td>\n",
       "    </tr>\n",
       "    <tr>\n",
       "      <th>3</th>\n",
       "      <td>B0822FF7YQ</td>\n",
       "      <td>LLPT Butyl Putty Tape White 1 Inch x 33Ft Tigh...</td>\n",
       "      <td>4.5</td>\n",
       "      <td>1936</td>\n",
       "      <td>21.99</td>\n",
       "      <td>Industrial  Scientific</td>\n",
       "      <td>False</td>\n",
       "      <td>100</td>\n",
       "    </tr>\n",
       "    <tr>\n",
       "      <th>4</th>\n",
       "      <td>B08NTR8NN4</td>\n",
       "      <td>Lightbeam 16\" Long Stem Deep Fry Thermometer w...</td>\n",
       "      <td>4.2</td>\n",
       "      <td>46</td>\n",
       "      <td>18.99</td>\n",
       "      <td>Industrial  Scientific</td>\n",
       "      <td>False</td>\n",
       "      <td>100</td>\n",
       "    </tr>\n",
       "  </tbody>\n",
       "</table>\n",
       "</div>"
      ],
      "text/plain": [
       "         asin                                              title  stars  \\\n",
       "0  B07CV4L6HX  Green Leaf WW3D Wonder Extension Cord Winder, ...    4.4   \n",
       "1  B09N1HGY74  8pcs Toilet Seat Bumpers Universal Toilet Repl...    3.8   \n",
       "2  B087P7538J  YaeCCC 19 Pcs Hole Saw Kit 3/4''(19mm)- 6''(15...    4.0   \n",
       "3  B0822FF7YQ  LLPT Butyl Putty Tape White 1 Inch x 33Ft Tigh...    4.5   \n",
       "4  B08NTR8NN4  Lightbeam 16\" Long Stem Deep Fry Thermometer w...    4.2   \n",
       "\n",
       "   reviews  price            categoryName  isBestSeller  boughtInLastMonth  \n",
       "0     2876  47.69  Industrial  Scientific         False                  0  \n",
       "1       55  10.99  Industrial  Scientific         False                100  \n",
       "2      126  25.99  Industrial  Scientific         False                 50  \n",
       "3     1936  21.99  Industrial  Scientific         False                100  \n",
       "4       46  18.99  Industrial  Scientific         False                100  "
      ]
     },
     "execution_count": 13,
     "metadata": {},
     "output_type": "execute_result"
    }
   ],
   "source": [
    "# Hapus kolom yang tidak digunakan\n",
    "ca = ca.drop(['imgUrl', 'productURL', 'listPrice'], axis=1) #listPrice dihapus karena missing value sejumlah 95%\n",
    "\n",
    "ca.head()"
   ]
  },
  {
   "cell_type": "code",
   "execution_count": 15,
   "id": "e830b399-2d84-4477-a98a-bb925267e06e",
   "metadata": {},
   "outputs": [
    {
     "data": {
      "text/html": [
       "<div>\n",
       "<style scoped>\n",
       "    .dataframe tbody tr th:only-of-type {\n",
       "        vertical-align: middle;\n",
       "    }\n",
       "\n",
       "    .dataframe tbody tr th {\n",
       "        vertical-align: top;\n",
       "    }\n",
       "\n",
       "    .dataframe thead th {\n",
       "        text-align: right;\n",
       "    }\n",
       "</style>\n",
       "<table border=\"1\" class=\"dataframe\">\n",
       "  <thead>\n",
       "    <tr style=\"text-align: right;\">\n",
       "      <th></th>\n",
       "      <th>ID</th>\n",
       "      <th>name</th>\n",
       "      <th>rating</th>\n",
       "      <th>reviewCount</th>\n",
       "      <th>price</th>\n",
       "      <th>categoryName</th>\n",
       "      <th>isBestSeller</th>\n",
       "      <th>quantity</th>\n",
       "    </tr>\n",
       "  </thead>\n",
       "  <tbody>\n",
       "    <tr>\n",
       "      <th>0</th>\n",
       "      <td>B07CV4L6HX</td>\n",
       "      <td>Green Leaf WW3D Wonder Extension Cord Winder, ...</td>\n",
       "      <td>4.4</td>\n",
       "      <td>2876</td>\n",
       "      <td>47.69</td>\n",
       "      <td>Industrial  Scientific</td>\n",
       "      <td>False</td>\n",
       "      <td>0</td>\n",
       "    </tr>\n",
       "    <tr>\n",
       "      <th>1</th>\n",
       "      <td>B09N1HGY74</td>\n",
       "      <td>8pcs Toilet Seat Bumpers Universal Toilet Repl...</td>\n",
       "      <td>3.8</td>\n",
       "      <td>55</td>\n",
       "      <td>10.99</td>\n",
       "      <td>Industrial  Scientific</td>\n",
       "      <td>False</td>\n",
       "      <td>100</td>\n",
       "    </tr>\n",
       "    <tr>\n",
       "      <th>2</th>\n",
       "      <td>B087P7538J</td>\n",
       "      <td>YaeCCC 19 Pcs Hole Saw Kit 3/4''(19mm)- 6''(15...</td>\n",
       "      <td>4.0</td>\n",
       "      <td>126</td>\n",
       "      <td>25.99</td>\n",
       "      <td>Industrial  Scientific</td>\n",
       "      <td>False</td>\n",
       "      <td>50</td>\n",
       "    </tr>\n",
       "    <tr>\n",
       "      <th>3</th>\n",
       "      <td>B0822FF7YQ</td>\n",
       "      <td>LLPT Butyl Putty Tape White 1 Inch x 33Ft Tigh...</td>\n",
       "      <td>4.5</td>\n",
       "      <td>1936</td>\n",
       "      <td>21.99</td>\n",
       "      <td>Industrial  Scientific</td>\n",
       "      <td>False</td>\n",
       "      <td>100</td>\n",
       "    </tr>\n",
       "    <tr>\n",
       "      <th>4</th>\n",
       "      <td>B08NTR8NN4</td>\n",
       "      <td>Lightbeam 16\" Long Stem Deep Fry Thermometer w...</td>\n",
       "      <td>4.2</td>\n",
       "      <td>46</td>\n",
       "      <td>18.99</td>\n",
       "      <td>Industrial  Scientific</td>\n",
       "      <td>False</td>\n",
       "      <td>100</td>\n",
       "    </tr>\n",
       "  </tbody>\n",
       "</table>\n",
       "</div>"
      ],
      "text/plain": [
       "           ID                                               name  rating  \\\n",
       "0  B07CV4L6HX  Green Leaf WW3D Wonder Extension Cord Winder, ...     4.4   \n",
       "1  B09N1HGY74  8pcs Toilet Seat Bumpers Universal Toilet Repl...     3.8   \n",
       "2  B087P7538J  YaeCCC 19 Pcs Hole Saw Kit 3/4''(19mm)- 6''(15...     4.0   \n",
       "3  B0822FF7YQ  LLPT Butyl Putty Tape White 1 Inch x 33Ft Tigh...     4.5   \n",
       "4  B08NTR8NN4  Lightbeam 16\" Long Stem Deep Fry Thermometer w...     4.2   \n",
       "\n",
       "   reviewCount  price            categoryName  isBestSeller  quantity  \n",
       "0         2876  47.69  Industrial  Scientific         False         0  \n",
       "1           55  10.99  Industrial  Scientific         False       100  \n",
       "2          126  25.99  Industrial  Scientific         False        50  \n",
       "3         1936  21.99  Industrial  Scientific         False       100  \n",
       "4           46  18.99  Industrial  Scientific         False       100  "
      ]
     },
     "execution_count": 15,
     "metadata": {},
     "output_type": "execute_result"
    }
   ],
   "source": [
    "# Rename kolom\n",
    "ca = ca.rename(columns = {\"asin\" : \"ID\", \n",
    "                          \"title\" : \"name\",\n",
    "                         \"stars\" : \"rating\",\n",
    "                         \"reviews\" : \"reviewCount\",\n",
    "                         \"boughtInLastMonth\" : \"quantity\"})\n",
    "\n",
    "ca.head()"
   ]
  },
  {
   "cell_type": "code",
   "execution_count": 17,
   "id": "7ae3a173-5762-4671-b78d-6dda4d561ff2",
   "metadata": {},
   "outputs": [
    {
     "data": {
      "text/html": [
       "<div>\n",
       "<style scoped>\n",
       "    .dataframe tbody tr th:only-of-type {\n",
       "        vertical-align: middle;\n",
       "    }\n",
       "\n",
       "    .dataframe tbody tr th {\n",
       "        vertical-align: top;\n",
       "    }\n",
       "\n",
       "    .dataframe thead th {\n",
       "        text-align: right;\n",
       "    }\n",
       "</style>\n",
       "<table border=\"1\" class=\"dataframe\">\n",
       "  <thead>\n",
       "    <tr style=\"text-align: right;\">\n",
       "      <th></th>\n",
       "      <th>ID</th>\n",
       "      <th>name</th>\n",
       "      <th>rating</th>\n",
       "      <th>reviewCount</th>\n",
       "      <th>price</th>\n",
       "      <th>categoryName</th>\n",
       "      <th>isBestSeller</th>\n",
       "      <th>quantity</th>\n",
       "    </tr>\n",
       "  </thead>\n",
       "  <tbody>\n",
       "  </tbody>\n",
       "</table>\n",
       "</div>"
      ],
      "text/plain": [
       "Empty DataFrame\n",
       "Columns: [ID, name, rating, reviewCount, price, categoryName, isBestSeller, quantity]\n",
       "Index: []"
      ]
     },
     "execution_count": 17,
     "metadata": {},
     "output_type": "execute_result"
    }
   ],
   "source": [
    "# Menunjukkan Duplicates\n",
    "ca[ca.duplicated()]"
   ]
  },
  {
   "cell_type": "code",
   "execution_count": 19,
   "id": "bd9d68ed-68dc-4bcc-b060-b66ca87f64dd",
   "metadata": {},
   "outputs": [
    {
     "name": "stdout",
     "output_type": "stream",
     "text": [
      "ID              0\n",
      "name            6\n",
      "rating          0\n",
      "reviewCount     0\n",
      "price           0\n",
      "categoryName    0\n",
      "isBestSeller    0\n",
      "quantity        0\n",
      "dtype: int64\n"
     ]
    }
   ],
   "source": [
    "# Cek Missing Values\n",
    "print(ca.isnull().sum())"
   ]
  },
  {
   "cell_type": "code",
   "execution_count": 21,
   "id": "84946534-149b-4f2c-acbe-996f918f6530",
   "metadata": {},
   "outputs": [
    {
     "data": {
      "text/plain": [
       "quantity\n",
       "0        2056531\n",
       "50         52725\n",
       "100        29475\n",
       "200        10317\n",
       "300         4944\n",
       "400         3005\n",
       "1000        2353\n",
       "500         1931\n",
       "600         1337\n",
       "700          912\n",
       "800          813\n",
       "900          565\n",
       "2000         537\n",
       "3000         227\n",
       "4000          97\n",
       "5000          55\n",
       "6000          30\n",
       "10000         26\n",
       "7000          18\n",
       "8000          16\n",
       "9000           9\n",
       "20000          3\n",
       "Name: count, dtype: int64"
      ]
     },
     "execution_count": 21,
     "metadata": {},
     "output_type": "execute_result"
    }
   ],
   "source": [
    "'''Yang NaN ga ada, tapi banyak yang 0'''\n",
    "\n",
    "#Cek dari frekuensi & histogram\n",
    "ca['quantity'].value_counts()"
   ]
  },
  {
   "cell_type": "code",
   "execution_count": 23,
   "id": "4e4e44da-fd6b-4027-9662-8514ee8c24b1",
   "metadata": {},
   "outputs": [
    {
     "data": {
      "image/png": "[encoded data removed]",
      "text/plain": [
       "<Figure size 400x200 with 1 Axes>"
      ]
     },
     "metadata": {},
     "output_type": "display_data"
    }
   ],
   "source": [
    "# Histogram untuk memperjelas persebaran data\n",
    "plt.figure(figsize=(4, 2))\n",
    "plt.hist(ca['quantity'], bins=10, color='skyblue', edgecolor='black')\n",
    "plt.xlabel('quantity')\n",
    "plt.show()"
   ]
  },
  {
   "cell_type": "code",
   "execution_count": 25,
   "id": "dca7f7f7-289c-481e-adc5-d9a431c534e0",
   "metadata": {},
   "outputs": [
    {
     "data": {
      "image/png": "[encoded data removed]",
      "text/plain": [
       "<Figure size 400x200 with 1 Axes>"
      ]
     },
     "metadata": {},
     "output_type": "display_data"
    }
   ],
   "source": [
    "''' Quantity 0 terlalu banyak, akan dihapus '''\n",
    "\n",
    "# Cek data Price\n",
    "plt.figure(figsize=(4, 2))\n",
    "plt.hist(ca['price'], bins=10, color='skyblue', edgecolor='black')\n",
    "plt.xlabel('price')\n",
    "plt.show()"
   ]
  },
  {
   "cell_type": "code",
   "execution_count": 27,
   "id": "7eb64c07-847b-4a3e-90d1-8ba190bb032a",
   "metadata": {},
   "outputs": [
    {
     "data": {
      "text/plain": [
       "quantity\n",
       "50       51391\n",
       "100      28725\n",
       "200      10063\n",
       "300       4843\n",
       "400       2936\n",
       "1000      2281\n",
       "500       1867\n",
       "600       1310\n",
       "700        885\n",
       "800        793\n",
       "900        555\n",
       "2000       522\n",
       "3000       222\n",
       "4000        93\n",
       "5000        54\n",
       "6000        30\n",
       "10000       22\n",
       "7000        18\n",
       "8000        15\n",
       "9000         9\n",
       "20000        3\n",
       "Name: count, dtype: int64"
      ]
     },
     "execution_count": 27,
     "metadata": {},
     "output_type": "execute_result"
    }
   ],
   "source": [
    "# Hapus baris di mana kolom 'price' atau 'quantity' mengandung 0\n",
    "ca = ca[(ca['price'] != 0) & (ca['quantity'] != 0)].dropna()\n",
    "\n",
    "ca['quantity'].value_counts()"
   ]
  },
  {
   "cell_type": "code",
   "execution_count": 29,
   "id": "e64812d6-ce86-4628-83cf-20b6142077b9",
   "metadata": {},
   "outputs": [
    {
     "data": {
      "text/plain": [
       "ID              106637\n",
       "name            106637\n",
       "rating          106637\n",
       "reviewCount     106637\n",
       "price           106637\n",
       "categoryName    106637\n",
       "isBestSeller    106637\n",
       "quantity        106637\n",
       "dtype: int64"
      ]
     },
     "execution_count": 29,
     "metadata": {},
     "output_type": "execute_result"
    }
   ],
   "source": [
    "ca.count()"
   ]
  },
  {
   "cell_type": "code",
   "execution_count": 31,
   "id": "0873e832-d0cb-480a-8a15-cc8fda8b06c8",
   "metadata": {},
   "outputs": [
    {
     "data": {
      "image/png": "[encoded data removed]",
      "text/plain": [
       "<Figure size 640x480 with 1 Axes>"
      ]
     },
     "metadata": {},
     "output_type": "display_data"
    }
   ],
   "source": [
    "# Cek outlier\n",
    "sns.boxplot(x=ca['quantity'])\n",
    "plt.show()"
   ]
  },
  {
   "cell_type": "code",
   "execution_count": 33,
   "id": "60e8a6bd-7777-4667-815f-6963ba21bb0c",
   "metadata": {},
   "outputs": [
    {
     "data": {
      "text/plain": [
       "(97958, 8)"
      ]
     },
     "execution_count": 33,
     "metadata": {},
     "output_type": "execute_result"
    }
   ],
   "source": [
    "'''range quantity dibatasi 400'''\n",
    "ca = ca[ca['quantity'] <= 400]\n",
    "ca.shape"
   ]
  },
  {
   "cell_type": "code",
   "execution_count": 35,
   "id": "bf8a27bd-c5aa-49c3-b31e-e917176b6901",
   "metadata": {},
   "outputs": [
    {
     "data": {
      "image/png": "[encoded data removed]",
      "text/plain": [
       "<Figure size 640x480 with 1 Axes>"
      ]
     },
     "metadata": {},
     "output_type": "display_data"
    }
   ],
   "source": [
    "# Setelah outlier quantity dibuang\n",
    "sns.boxplot(x=ca['quantity'])\n",
    "plt.show()"
   ]
  },
  {
   "cell_type": "code",
   "execution_count": 37,
   "id": "8b8952bf-5879-492b-b065-258fa80734d0",
   "metadata": {},
   "outputs": [
    {
     "data": {
      "image/png": "[encoded data removed]",
      "text/plain": [
       "<Figure size 640x480 with 1 Axes>"
      ]
     },
     "metadata": {},
     "output_type": "display_data"
    }
   ],
   "source": [
    "# Cek outlier price\n",
    "sns.boxplot(x=ca['price'])\n",
    "plt.show()"
   ]
  },
  {
   "cell_type": "code",
   "execution_count": 39,
   "id": "073e602a-e986-43c8-9e54-dfd4b0a8cab7",
   "metadata": {},
   "outputs": [
    {
     "data": {
      "text/plain": [
       "price\n",
       "19.99     3121\n",
       "29.99     2430\n",
       "14.99     2196\n",
       "39.99     1899\n",
       "16.99     1871\n",
       "          ... \n",
       "56.80        1\n",
       "106.98       1\n",
       "107.68       1\n",
       "321.00       1\n",
       "148.89       1\n",
       "Name: count, Length: 7793, dtype: int64"
      ]
     },
     "execution_count": 39,
     "metadata": {},
     "output_type": "execute_result"
    }
   ],
   "source": [
    "ca['price'].value_counts()"
   ]
  },
  {
   "cell_type": "code",
   "execution_count": 41,
   "id": "3ef660be-69d1-4fe2-b0e6-3951024fb526",
   "metadata": {},
   "outputs": [
    {
     "data": {
      "text/html": [
       "<div>\n",
       "<style scoped>\n",
       "    .dataframe tbody tr th:only-of-type {\n",
       "        vertical-align: middle;\n",
       "    }\n",
       "\n",
       "    .dataframe tbody tr th {\n",
       "        vertical-align: top;\n",
       "    }\n",
       "\n",
       "    .dataframe thead th {\n",
       "        text-align: right;\n",
       "    }\n",
       "</style>\n",
       "<table border=\"1\" class=\"dataframe\">\n",
       "  <thead>\n",
       "    <tr style=\"text-align: right;\">\n",
       "      <th></th>\n",
       "      <th>ID</th>\n",
       "      <th>name</th>\n",
       "      <th>rating</th>\n",
       "      <th>reviewCount</th>\n",
       "      <th>price</th>\n",
       "      <th>categoryName</th>\n",
       "      <th>isBestSeller</th>\n",
       "      <th>quantity</th>\n",
       "      <th>city</th>\n",
       "    </tr>\n",
       "  </thead>\n",
       "  <tbody>\n",
       "    <tr>\n",
       "      <th>1</th>\n",
       "      <td>B09N1HGY74</td>\n",
       "      <td>8pcs Toilet Seat Bumpers Universal Toilet Repl...</td>\n",
       "      <td>3.8</td>\n",
       "      <td>55</td>\n",
       "      <td>10.99</td>\n",
       "      <td>Industrial  Scientific</td>\n",
       "      <td>False</td>\n",
       "      <td>100</td>\n",
       "      <td>Toronto</td>\n",
       "    </tr>\n",
       "    <tr>\n",
       "      <th>2</th>\n",
       "      <td>B087P7538J</td>\n",
       "      <td>YaeCCC 19 Pcs Hole Saw Kit 3/4''(19mm)- 6''(15...</td>\n",
       "      <td>4.0</td>\n",
       "      <td>126</td>\n",
       "      <td>25.99</td>\n",
       "      <td>Industrial  Scientific</td>\n",
       "      <td>False</td>\n",
       "      <td>50</td>\n",
       "      <td>Toronto</td>\n",
       "    </tr>\n",
       "    <tr>\n",
       "      <th>3</th>\n",
       "      <td>B0822FF7YQ</td>\n",
       "      <td>LLPT Butyl Putty Tape White 1 Inch x 33Ft Tigh...</td>\n",
       "      <td>4.5</td>\n",
       "      <td>1936</td>\n",
       "      <td>21.99</td>\n",
       "      <td>Industrial  Scientific</td>\n",
       "      <td>False</td>\n",
       "      <td>100</td>\n",
       "      <td>Montreal</td>\n",
       "    </tr>\n",
       "    <tr>\n",
       "      <th>4</th>\n",
       "      <td>B08NTR8NN4</td>\n",
       "      <td>Lightbeam 16\" Long Stem Deep Fry Thermometer w...</td>\n",
       "      <td>4.2</td>\n",
       "      <td>46</td>\n",
       "      <td>18.99</td>\n",
       "      <td>Industrial  Scientific</td>\n",
       "      <td>False</td>\n",
       "      <td>100</td>\n",
       "      <td>Vancouver</td>\n",
       "    </tr>\n",
       "    <tr>\n",
       "      <th>6</th>\n",
       "      <td>B07RQ5389H</td>\n",
       "      <td>REAQER CPAP Hose Holder Hanger for Preventing ...</td>\n",
       "      <td>4.3</td>\n",
       "      <td>216</td>\n",
       "      <td>27.99</td>\n",
       "      <td>Industrial  Scientific</td>\n",
       "      <td>False</td>\n",
       "      <td>50</td>\n",
       "      <td>Edmonton</td>\n",
       "    </tr>\n",
       "  </tbody>\n",
       "</table>\n",
       "</div>"
      ],
      "text/plain": [
       "           ID                                               name  rating  \\\n",
       "1  B09N1HGY74  8pcs Toilet Seat Bumpers Universal Toilet Repl...     3.8   \n",
       "2  B087P7538J  YaeCCC 19 Pcs Hole Saw Kit 3/4''(19mm)- 6''(15...     4.0   \n",
       "3  B0822FF7YQ  LLPT Butyl Putty Tape White 1 Inch x 33Ft Tigh...     4.5   \n",
       "4  B08NTR8NN4  Lightbeam 16\" Long Stem Deep Fry Thermometer w...     4.2   \n",
       "6  B07RQ5389H  REAQER CPAP Hose Holder Hanger for Preventing ...     4.3   \n",
       "\n",
       "   reviewCount  price            categoryName  isBestSeller  quantity  \\\n",
       "1           55  10.99  Industrial  Scientific         False       100   \n",
       "2          126  25.99  Industrial  Scientific         False        50   \n",
       "3         1936  21.99  Industrial  Scientific         False       100   \n",
       "4           46  18.99  Industrial  Scientific         False       100   \n",
       "6          216  27.99  Industrial  Scientific         False        50   \n",
       "\n",
       "        city  \n",
       "1    Toronto  \n",
       "2    Toronto  \n",
       "3   Montreal  \n",
       "4  Vancouver  \n",
       "6   Edmonton  "
      ]
     },
     "execution_count": 41,
     "metadata": {},
     "output_type": "execute_result"
    }
   ],
   "source": [
    "''' Generate new column (City) '''\n",
    "# Kota-kota populer di Kanada\n",
    "cities = ['Toronto', 'Vancouver', 'Montreal', 'Calgary', 'Ottawa',\n",
    "          'Edmonton', 'Winnipeg', 'Quebec City', 'Hamilton', 'Halifax']\n",
    "\n",
    "# Distribusi probabilitas (tidak rata)\n",
    "probabilities = [0.25, 0.2, 0.15, 0.1, 0.1, 0.08, 0.05, 0.04, 0.02, 0.01]\n",
    "\n",
    "# Tambahkan kolom 'city' dengan nilai random berdasarkan probabilitas\n",
    "ca['city'] = np.random.choice(cities, size=len(ca), p=probabilities)\n",
    "\n",
    "ca.head()"
   ]
  },
  {
   "cell_type": "code",
   "execution_count": 43,
   "id": "c14dbc10-3a55-4944-ac37-117a23057cd2",
   "metadata": {},
   "outputs": [],
   "source": [
    "# Export into CSV\n",
    "ca.to_csv(\"C:/Users/HP/Desktop/Data Amazon/AmazonCa.csv\", index=False)"
   ]
  },
  {
   "cell_type": "code",
   "execution_count": null,
   "id": "402a4286-0bcf-475c-97a3-bafc46218444",
   "metadata": {},
   "outputs": [],
   "source": []
  }
 ],
 "metadata": {
  "kernelspec": {
   "display_name": "Python 3 (ipykernel)",
   "language": "python",
   "name": "python3"
  },
  "language_info": {
   "codemirror_mode": {
    "name": "ipython",
    "version": 3
   },
   "file_extension": ".py",
   "mimetype": "text/x-python",
   "name": "python",
   "nbconvert_exporter": "python",
   "pygments_lexer": "ipython3",
   "version": "3.12.7"
  }
 },
 "nbformat": 4,
 "nbformat_minor": 5
}
