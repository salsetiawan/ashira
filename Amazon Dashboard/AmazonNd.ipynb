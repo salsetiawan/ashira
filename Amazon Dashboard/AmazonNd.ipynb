{
 "cells": [
  {
   "cell_type": "code",
   "execution_count": 3,
   "id": "6e026196-31df-47ab-a2a8-9ef4a710454e",
   "metadata": {},
   "outputs": [],
   "source": [
    "# import Library yang dibutuhkan\n",
    "import pandas as pd                   #dataframe manipulation\n",
    "import numpy as np                    #scientific camputing\n",
    "import seaborn as sns                 #visualization\n",
    "import matplotlib.pyplot as plt       #visualization\n",
    "%matplotlib inline\n",
    "sns.set(color_codes=True)\n",
    "\n",
    "import warnings\n",
    "warnings.filterwarnings('ignore')"
   ]
  },
  {
   "cell_type": "code",
   "execution_count": 5,
   "id": "48a2f894-aa16-465c-b065-0233d2dc8fa6",
   "metadata": {},
   "outputs": [
    {
     "data": {
      "text/html": [
       "<div>\n",
       "<style scoped>\n",
       "    .dataframe tbody tr th:only-of-type {\n",
       "        vertical-align: middle;\n",
       "    }\n",
       "\n",
       "    .dataframe tbody tr th {\n",
       "        vertical-align: top;\n",
       "    }\n",
       "\n",
       "    .dataframe thead th {\n",
       "        text-align: right;\n",
       "    }\n",
       "</style>\n",
       "<table border=\"1\" class=\"dataframe\">\n",
       "  <thead>\n",
       "    <tr style=\"text-align: right;\">\n",
       "      <th></th>\n",
       "      <th>asin</th>\n",
       "      <th>title</th>\n",
       "      <th>imgUrl</th>\n",
       "      <th>productURL</th>\n",
       "      <th>stars</th>\n",
       "      <th>reviews</th>\n",
       "      <th>price</th>\n",
       "      <th>listPrice</th>\n",
       "      <th>categoryName</th>\n",
       "      <th>isBestSeller</th>\n",
       "      <th>boughtInLastMonth</th>\n",
       "    </tr>\n",
       "  </thead>\n",
       "  <tbody>\n",
       "    <tr>\n",
       "      <th>0</th>\n",
       "      <td>B08VJFZQ9S</td>\n",
       "      <td>प्लेन कैज़ुअल वियर बेसबॉल कैप पुरुषों और महिला...</td>\n",
       "      <td>https://m.media-amazon.com/images/I/61DK1GchGF...</td>\n",
       "      <td>https://www.amazon.in/dp/B08VJFZQ9S</td>\n",
       "      <td>0.0</td>\n",
       "      <td>0</td>\n",
       "      <td>299.0</td>\n",
       "      <td>499.0</td>\n",
       "      <td>पुरुषों के हैट्स और कैप्स</td>\n",
       "      <td>False</td>\n",
       "      <td>0</td>\n",
       "    </tr>\n",
       "    <tr>\n",
       "      <th>1</th>\n",
       "      <td>B08VJFYW5Q</td>\n",
       "      <td>यूनीसेक्स कॉटन एडजस्टेबल बेसबॉल कैप (काला, फ़्...</td>\n",
       "      <td>https://m.media-amazon.com/images/I/61+nwjWLUg...</td>\n",
       "      <td>https://www.amazon.in/dp/B08VJFYW5Q</td>\n",
       "      <td>0.0</td>\n",
       "      <td>0</td>\n",
       "      <td>299.0</td>\n",
       "      <td>499.0</td>\n",
       "      <td>पुरुषों के हैट्स और कैप्स</td>\n",
       "      <td>False</td>\n",
       "      <td>0</td>\n",
       "    </tr>\n",
       "    <tr>\n",
       "      <th>2</th>\n",
       "      <td>B08VJFYVX9</td>\n",
       "      <td>प्लेन कैज़ुअल वियर बेसबॉल कैप पुरुषों और महिला...</td>\n",
       "      <td>https://m.media-amazon.com/images/I/61DK1GchGF...</td>\n",
       "      <td>https://www.amazon.in/dp/B08VJFYVX9</td>\n",
       "      <td>0.0</td>\n",
       "      <td>0</td>\n",
       "      <td>275.0</td>\n",
       "      <td>300.0</td>\n",
       "      <td>पुरुषों के हैट्स और कैप्स</td>\n",
       "      <td>False</td>\n",
       "      <td>0</td>\n",
       "    </tr>\n",
       "    <tr>\n",
       "      <th>3</th>\n",
       "      <td>B08VJFXM7F</td>\n",
       "      <td>यूनीसेक्स कॉटन एडजस्टेबल बेसबॉल कैप (सफ़ेद, फ़...</td>\n",
       "      <td>https://m.media-amazon.com/images/I/516jdJhgbX...</td>\n",
       "      <td>https://www.amazon.in/dp/B08VJFXM7F</td>\n",
       "      <td>0.0</td>\n",
       "      <td>0</td>\n",
       "      <td>275.0</td>\n",
       "      <td>300.0</td>\n",
       "      <td>पुरुषों के हैट्स और कैप्स</td>\n",
       "      <td>False</td>\n",
       "      <td>0</td>\n",
       "    </tr>\n",
       "    <tr>\n",
       "      <th>4</th>\n",
       "      <td>B08VJFXFTJ</td>\n",
       "      <td>यूनीसेक्स कॉटन एडजस्टेबल बेसबॉल कैप (लाल और का...</td>\n",
       "      <td>https://m.media-amazon.com/images/I/614bZrSzDT...</td>\n",
       "      <td>https://www.amazon.in/dp/B08VJFXFTJ</td>\n",
       "      <td>0.0</td>\n",
       "      <td>0</td>\n",
       "      <td>275.0</td>\n",
       "      <td>300.0</td>\n",
       "      <td>पुरुषों के हैट्स और कैप्स</td>\n",
       "      <td>False</td>\n",
       "      <td>0</td>\n",
       "    </tr>\n",
       "  </tbody>\n",
       "</table>\n",
       "</div>"
      ],
      "text/plain": [
       "         asin                                              title  \\\n",
       "0  B08VJFZQ9S  प्लेन कैज़ुअल वियर बेसबॉल कैप पुरुषों और महिला...   \n",
       "1  B08VJFYW5Q  यूनीसेक्स कॉटन एडजस्टेबल बेसबॉल कैप (काला, फ़्...   \n",
       "2  B08VJFYVX9  प्लेन कैज़ुअल वियर बेसबॉल कैप पुरुषों और महिला...   \n",
       "3  B08VJFXM7F  यूनीसेक्स कॉटन एडजस्टेबल बेसबॉल कैप (सफ़ेद, फ़...   \n",
       "4  B08VJFXFTJ  यूनीसेक्स कॉटन एडजस्टेबल बेसबॉल कैप (लाल और का...   \n",
       "\n",
       "                                              imgUrl  \\\n",
       "0  https://m.media-amazon.com/images/I/61DK1GchGF...   \n",
       "1  https://m.media-amazon.com/images/I/61+nwjWLUg...   \n",
       "2  https://m.media-amazon.com/images/I/61DK1GchGF...   \n",
       "3  https://m.media-amazon.com/images/I/516jdJhgbX...   \n",
       "4  https://m.media-amazon.com/images/I/614bZrSzDT...   \n",
       "\n",
       "                            productURL  stars  reviews  price  listPrice  \\\n",
       "0  https://www.amazon.in/dp/B08VJFZQ9S    0.0        0  299.0      499.0   \n",
       "1  https://www.amazon.in/dp/B08VJFYW5Q    0.0        0  299.0      499.0   \n",
       "2  https://www.amazon.in/dp/B08VJFYVX9    0.0        0  275.0      300.0   \n",
       "3  https://www.amazon.in/dp/B08VJFXM7F    0.0        0  275.0      300.0   \n",
       "4  https://www.amazon.in/dp/B08VJFXFTJ    0.0        0  275.0      300.0   \n",
       "\n",
       "                categoryName  isBestSeller  boughtInLastMonth  \n",
       "0  पुरुषों के हैट्स और कैप्स         False                  0  \n",
       "1  पुरुषों के हैट्स और कैप्स         False                  0  \n",
       "2  पुरुषों के हैट्स और कैप्स         False                  0  \n",
       "3  पुरुषों के हैट्स और कैप्स         False                  0  \n",
       "4  पुरुषों के हैट्स और कैप्स         False                  0  "
      ]
     },
     "execution_count": 5,
     "metadata": {},
     "output_type": "execute_result"
    }
   ],
   "source": [
    "# import csv\n",
    "nd = pd.read_csv(\"C:/Users/HP/Desktop/Data Amazon/amz_in.csv\") \n",
    "\n",
    "nd.head()"
   ]
  },
  {
   "cell_type": "code",
   "execution_count": 7,
   "id": "6a9f9c32-d061-46f6-9edc-214f6944a4ad",
   "metadata": {},
   "outputs": [
    {
     "data": {
      "text/plain": [
       "listPrice\n",
       "0.00      1057517\n",
       "999.00     134632\n",
       "499.00      44187\n",
       "599.00      37181\n",
       "799.00      35386\n",
       "           ...   \n",
       "250.21          1\n",
       "703.20          1\n",
       "201.60          1\n",
       "312.26          1\n",
       "139.01          1\n",
       "Name: count, Length: 1262, dtype: int64"
      ]
     },
     "execution_count": 7,
     "metadata": {},
     "output_type": "execute_result"
    }
   ],
   "source": [
    "nd['listPrice'].value_counts()"
   ]
  },
  {
   "cell_type": "code",
   "execution_count": 9,
   "id": "403f92c6-92ca-43af-a093-9f281c9d3b0e",
   "metadata": {},
   "outputs": [
    {
     "data": {
      "text/plain": [
       "(1589160, 11)"
      ]
     },
     "execution_count": 9,
     "metadata": {},
     "output_type": "execute_result"
    }
   ],
   "source": [
    "nd.shape"
   ]
  },
  {
   "cell_type": "code",
   "execution_count": 11,
   "id": "54518486-2918-4d2e-8e62-4dc4c34423f9",
   "metadata": {},
   "outputs": [
    {
     "data": {
      "text/html": [
       "<div>\n",
       "<style scoped>\n",
       "    .dataframe tbody tr th:only-of-type {\n",
       "        vertical-align: middle;\n",
       "    }\n",
       "\n",
       "    .dataframe tbody tr th {\n",
       "        vertical-align: top;\n",
       "    }\n",
       "\n",
       "    .dataframe thead th {\n",
       "        text-align: right;\n",
       "    }\n",
       "</style>\n",
       "<table border=\"1\" class=\"dataframe\">\n",
       "  <thead>\n",
       "    <tr style=\"text-align: right;\">\n",
       "      <th></th>\n",
       "      <th>asin</th>\n",
       "      <th>title</th>\n",
       "      <th>stars</th>\n",
       "      <th>reviews</th>\n",
       "      <th>price</th>\n",
       "      <th>categoryName</th>\n",
       "      <th>isBestSeller</th>\n",
       "      <th>boughtInLastMonth</th>\n",
       "    </tr>\n",
       "  </thead>\n",
       "  <tbody>\n",
       "    <tr>\n",
       "      <th>0</th>\n",
       "      <td>B08VJFZQ9S</td>\n",
       "      <td>प्लेन कैज़ुअल वियर बेसबॉल कैप पुरुषों और महिला...</td>\n",
       "      <td>0.0</td>\n",
       "      <td>0</td>\n",
       "      <td>299.0</td>\n",
       "      <td>पुरुषों के हैट्स और कैप्स</td>\n",
       "      <td>False</td>\n",
       "      <td>0</td>\n",
       "    </tr>\n",
       "    <tr>\n",
       "      <th>1</th>\n",
       "      <td>B08VJFYW5Q</td>\n",
       "      <td>यूनीसेक्स कॉटन एडजस्टेबल बेसबॉल कैप (काला, फ़्...</td>\n",
       "      <td>0.0</td>\n",
       "      <td>0</td>\n",
       "      <td>299.0</td>\n",
       "      <td>पुरुषों के हैट्स और कैप्स</td>\n",
       "      <td>False</td>\n",
       "      <td>0</td>\n",
       "    </tr>\n",
       "    <tr>\n",
       "      <th>2</th>\n",
       "      <td>B08VJFYVX9</td>\n",
       "      <td>प्लेन कैज़ुअल वियर बेसबॉल कैप पुरुषों और महिला...</td>\n",
       "      <td>0.0</td>\n",
       "      <td>0</td>\n",
       "      <td>275.0</td>\n",
       "      <td>पुरुषों के हैट्स और कैप्स</td>\n",
       "      <td>False</td>\n",
       "      <td>0</td>\n",
       "    </tr>\n",
       "    <tr>\n",
       "      <th>3</th>\n",
       "      <td>B08VJFXM7F</td>\n",
       "      <td>यूनीसेक्स कॉटन एडजस्टेबल बेसबॉल कैप (सफ़ेद, फ़...</td>\n",
       "      <td>0.0</td>\n",
       "      <td>0</td>\n",
       "      <td>275.0</td>\n",
       "      <td>पुरुषों के हैट्स और कैप्स</td>\n",
       "      <td>False</td>\n",
       "      <td>0</td>\n",
       "    </tr>\n",
       "    <tr>\n",
       "      <th>4</th>\n",
       "      <td>B08VJFXFTJ</td>\n",
       "      <td>यूनीसेक्स कॉटन एडजस्टेबल बेसबॉल कैप (लाल और का...</td>\n",
       "      <td>0.0</td>\n",
       "      <td>0</td>\n",
       "      <td>275.0</td>\n",
       "      <td>पुरुषों के हैट्स और कैप्स</td>\n",
       "      <td>False</td>\n",
       "      <td>0</td>\n",
       "    </tr>\n",
       "  </tbody>\n",
       "</table>\n",
       "</div>"
      ],
      "text/plain": [
       "         asin                                              title  stars  \\\n",
       "0  B08VJFZQ9S  प्लेन कैज़ुअल वियर बेसबॉल कैप पुरुषों और महिला...    0.0   \n",
       "1  B08VJFYW5Q  यूनीसेक्स कॉटन एडजस्टेबल बेसबॉल कैप (काला, फ़्...    0.0   \n",
       "2  B08VJFYVX9  प्लेन कैज़ुअल वियर बेसबॉल कैप पुरुषों और महिला...    0.0   \n",
       "3  B08VJFXM7F  यूनीसेक्स कॉटन एडजस्टेबल बेसबॉल कैप (सफ़ेद, फ़...    0.0   \n",
       "4  B08VJFXFTJ  यूनीसेक्स कॉटन एडजस्टेबल बेसबॉल कैप (लाल और का...    0.0   \n",
       "\n",
       "   reviews  price               categoryName  isBestSeller  boughtInLastMonth  \n",
       "0        0  299.0  पुरुषों के हैट्स और कैप्स         False                  0  \n",
       "1        0  299.0  पुरुषों के हैट्स और कैप्स         False                  0  \n",
       "2        0  275.0  पुरुषों के हैट्स और कैप्स         False                  0  \n",
       "3        0  275.0  पुरुषों के हैट्स और कैप्स         False                  0  \n",
       "4        0  275.0  पुरुषों के हैट्स और कैप्स         False                  0  "
      ]
     },
     "execution_count": 11,
     "metadata": {},
     "output_type": "execute_result"
    }
   ],
   "source": [
    "# Hapus kolom yang tidak digunakan\n",
    "nd = nd.drop(['imgUrl', 'productURL', 'listPrice'], axis=1) #listPrice dihapus karena 2/3nya missing value\n",
    "\n",
    "nd.head()"
   ]
  },
  {
   "cell_type": "code",
   "execution_count": 13,
   "id": "e830b399-2d84-4477-a98a-bb925267e06e",
   "metadata": {},
   "outputs": [
    {
     "data": {
      "text/html": [
       "<div>\n",
       "<style scoped>\n",
       "    .dataframe tbody tr th:only-of-type {\n",
       "        vertical-align: middle;\n",
       "    }\n",
       "\n",
       "    .dataframe tbody tr th {\n",
       "        vertical-align: top;\n",
       "    }\n",
       "\n",
       "    .dataframe thead th {\n",
       "        text-align: right;\n",
       "    }\n",
       "</style>\n",
       "<table border=\"1\" class=\"dataframe\">\n",
       "  <thead>\n",
       "    <tr style=\"text-align: right;\">\n",
       "      <th></th>\n",
       "      <th>ID</th>\n",
       "      <th>name</th>\n",
       "      <th>rating</th>\n",
       "      <th>reviewCount</th>\n",
       "      <th>price</th>\n",
       "      <th>categoryName</th>\n",
       "      <th>isBestSeller</th>\n",
       "      <th>quantity</th>\n",
       "    </tr>\n",
       "  </thead>\n",
       "  <tbody>\n",
       "    <tr>\n",
       "      <th>0</th>\n",
       "      <td>B08VJFZQ9S</td>\n",
       "      <td>प्लेन कैज़ुअल वियर बेसबॉल कैप पुरुषों और महिला...</td>\n",
       "      <td>0.0</td>\n",
       "      <td>0</td>\n",
       "      <td>299.0</td>\n",
       "      <td>पुरुषों के हैट्स और कैप्स</td>\n",
       "      <td>False</td>\n",
       "      <td>0</td>\n",
       "    </tr>\n",
       "    <tr>\n",
       "      <th>1</th>\n",
       "      <td>B08VJFYW5Q</td>\n",
       "      <td>यूनीसेक्स कॉटन एडजस्टेबल बेसबॉल कैप (काला, फ़्...</td>\n",
       "      <td>0.0</td>\n",
       "      <td>0</td>\n",
       "      <td>299.0</td>\n",
       "      <td>पुरुषों के हैट्स और कैप्स</td>\n",
       "      <td>False</td>\n",
       "      <td>0</td>\n",
       "    </tr>\n",
       "    <tr>\n",
       "      <th>2</th>\n",
       "      <td>B08VJFYVX9</td>\n",
       "      <td>प्लेन कैज़ुअल वियर बेसबॉल कैप पुरुषों और महिला...</td>\n",
       "      <td>0.0</td>\n",
       "      <td>0</td>\n",
       "      <td>275.0</td>\n",
       "      <td>पुरुषों के हैट्स और कैप्स</td>\n",
       "      <td>False</td>\n",
       "      <td>0</td>\n",
       "    </tr>\n",
       "    <tr>\n",
       "      <th>3</th>\n",
       "      <td>B08VJFXM7F</td>\n",
       "      <td>यूनीसेक्स कॉटन एडजस्टेबल बेसबॉल कैप (सफ़ेद, फ़...</td>\n",
       "      <td>0.0</td>\n",
       "      <td>0</td>\n",
       "      <td>275.0</td>\n",
       "      <td>पुरुषों के हैट्स और कैप्स</td>\n",
       "      <td>False</td>\n",
       "      <td>0</td>\n",
       "    </tr>\n",
       "    <tr>\n",
       "      <th>4</th>\n",
       "      <td>B08VJFXFTJ</td>\n",
       "      <td>यूनीसेक्स कॉटन एडजस्टेबल बेसबॉल कैप (लाल और का...</td>\n",
       "      <td>0.0</td>\n",
       "      <td>0</td>\n",
       "      <td>275.0</td>\n",
       "      <td>पुरुषों के हैट्स और कैप्स</td>\n",
       "      <td>False</td>\n",
       "      <td>0</td>\n",
       "    </tr>\n",
       "  </tbody>\n",
       "</table>\n",
       "</div>"
      ],
      "text/plain": [
       "           ID                                               name  rating  \\\n",
       "0  B08VJFZQ9S  प्लेन कैज़ुअल वियर बेसबॉल कैप पुरुषों और महिला...     0.0   \n",
       "1  B08VJFYW5Q  यूनीसेक्स कॉटन एडजस्टेबल बेसबॉल कैप (काला, फ़्...     0.0   \n",
       "2  B08VJFYVX9  प्लेन कैज़ुअल वियर बेसबॉल कैप पुरुषों और महिला...     0.0   \n",
       "3  B08VJFXM7F  यूनीसेक्स कॉटन एडजस्टेबल बेसबॉल कैप (सफ़ेद, फ़...     0.0   \n",
       "4  B08VJFXFTJ  यूनीसेक्स कॉटन एडजस्टेबल बेसबॉल कैप (लाल और का...     0.0   \n",
       "\n",
       "   reviewCount  price               categoryName  isBestSeller  quantity  \n",
       "0            0  299.0  पुरुषों के हैट्स और कैप्स         False         0  \n",
       "1            0  299.0  पुरुषों के हैट्स और कैप्स         False         0  \n",
       "2            0  275.0  पुरुषों के हैट्स और कैप्स         False         0  \n",
       "3            0  275.0  पुरुषों के हैट्स और कैप्स         False         0  \n",
       "4            0  275.0  पुरुषों के हैट्स और कैप्स         False         0  "
      ]
     },
     "execution_count": 13,
     "metadata": {},
     "output_type": "execute_result"
    }
   ],
   "source": [
    "# Rename kolom\n",
    "nd = nd.rename(columns = {\"asin\" : \"ID\", \n",
    "                          \"title\" : \"name\",\n",
    "                         \"stars\" : \"rating\",\n",
    "                         \"reviews\" : \"reviewCount\",\n",
    "                         \"boughtInLastMonth\" : \"quantity\"})\n",
    "\n",
    "nd.head()"
   ]
  },
  {
   "cell_type": "code",
   "execution_count": 15,
   "id": "7ae3a173-5762-4671-b78d-6dda4d561ff2",
   "metadata": {},
   "outputs": [
    {
     "data": {
      "text/html": [
       "<div>\n",
       "<style scoped>\n",
       "    .dataframe tbody tr th:only-of-type {\n",
       "        vertical-align: middle;\n",
       "    }\n",
       "\n",
       "    .dataframe tbody tr th {\n",
       "        vertical-align: top;\n",
       "    }\n",
       "\n",
       "    .dataframe thead th {\n",
       "        text-align: right;\n",
       "    }\n",
       "</style>\n",
       "<table border=\"1\" class=\"dataframe\">\n",
       "  <thead>\n",
       "    <tr style=\"text-align: right;\">\n",
       "      <th></th>\n",
       "      <th>ID</th>\n",
       "      <th>name</th>\n",
       "      <th>rating</th>\n",
       "      <th>reviewCount</th>\n",
       "      <th>price</th>\n",
       "      <th>categoryName</th>\n",
       "      <th>isBestSeller</th>\n",
       "      <th>quantity</th>\n",
       "    </tr>\n",
       "  </thead>\n",
       "  <tbody>\n",
       "  </tbody>\n",
       "</table>\n",
       "</div>"
      ],
      "text/plain": [
       "Empty DataFrame\n",
       "Columns: [ID, name, rating, reviewCount, price, categoryName, isBestSeller, quantity]\n",
       "Index: []"
      ]
     },
     "execution_count": 15,
     "metadata": {},
     "output_type": "execute_result"
    }
   ],
   "source": [
    "# Menunjukkan Duplicates\n",
    "nd[nd.duplicated()]"
   ]
  },
  {
   "cell_type": "code",
   "execution_count": 17,
   "id": "bd9d68ed-68dc-4bcc-b060-b66ca87f64dd",
   "metadata": {},
   "outputs": [
    {
     "name": "stdout",
     "output_type": "stream",
     "text": [
      "ID              0\n",
      "name            0\n",
      "rating          0\n",
      "reviewCount     0\n",
      "price           0\n",
      "categoryName    0\n",
      "isBestSeller    0\n",
      "quantity        0\n",
      "dtype: int64\n"
     ]
    }
   ],
   "source": [
    "# Cek Missing Values\n",
    "print(nd.isnull().sum())"
   ]
  },
  {
   "cell_type": "code",
   "execution_count": 19,
   "id": "84946534-149b-4f2c-acbe-996f918f6530",
   "metadata": {},
   "outputs": [
    {
     "data": {
      "text/plain": [
       "quantity\n",
       "0        1507085\n",
       "50         33205\n",
       "100        21156\n",
       "200         8200\n",
       "300         4275\n",
       "1000        3294\n",
       "400         2780\n",
       "500         1904\n",
       "600         1400\n",
       "2000        1135\n",
       "700         1115\n",
       "800          844\n",
       "900          677\n",
       "3000         588\n",
       "4000         373\n",
       "10000        289\n",
       "5000         264\n",
       "6000         173\n",
       "7000         122\n",
       "8000          90\n",
       "9000          83\n",
       "20000         79\n",
       "30000         15\n",
       "40000          8\n",
       "60000          3\n",
       "50000          2\n",
       "1              1\n",
       "Name: count, dtype: int64"
      ]
     },
     "execution_count": 19,
     "metadata": {},
     "output_type": "execute_result"
    }
   ],
   "source": [
    "'''Yang NaN ga ada, tapi banyak yang 0'''\n",
    "\n",
    "#Cek dari frekuensi & histogram\n",
    "nd['quantity'].value_counts()"
   ]
  },
  {
   "cell_type": "code",
   "execution_count": 23,
   "id": "4e4e44da-fd6b-4027-9662-8514ee8c24b1",
   "metadata": {},
   "outputs": [
    {
     "data": {
      "text/plain": [
       "<Figure size 400x200 with 0 Axes>"
      ]
     },
     "metadata": {},
     "output_type": "display_data"
    },
    {
     "data": {
      "image/png": "[encoded data removed]",
      "text/plain": [
       "<Figure size 400x200 with 1 Axes>"
      ]
     },
     "metadata": {},
     "output_type": "display_data"
    }
   ],
   "source": [
    "# Histogram untuk memperjelas persebaran data\n",
    "plt.figure(figsize=(4, 2))\n",
    "plt.hist(nd['quantity'], bins=10, color='skyblue', edgecolor='black')\n",
    "plt.xlabel('quantity')\n",
    "plt.show()"
   ]
  },
  {
   "cell_type": "code",
   "execution_count": 25,
   "id": "dca7f7f7-289c-481e-adc5-d9a431c534e0",
   "metadata": {},
   "outputs": [
    {
     "data": {
      "image/png": "[encoded data removed]",
      "text/plain": [
       "<Figure size 400x200 with 1 Axes>"
      ]
     },
     "metadata": {},
     "output_type": "display_data"
    }
   ],
   "source": [
    "''' Quantity 0 terlalu banyak, akan dihapus '''\n",
    "\n",
    "# Cek data Price\n",
    "plt.figure(figsize=(4, 2))\n",
    "plt.hist(nd['price'], bins=10, color='skyblue', edgecolor='black')\n",
    "plt.xlabel('price')\n",
    "plt.show()"
   ]
  },
  {
   "cell_type": "code",
   "execution_count": 27,
   "id": "7eb64c07-847b-4a3e-90d1-8ba190bb032a",
   "metadata": {},
   "outputs": [
    {
     "data": {
      "text/plain": [
       "quantity\n",
       "50       32992\n",
       "100      21016\n",
       "200       8152\n",
       "300       4245\n",
       "1000      3268\n",
       "400       2761\n",
       "500       1887\n",
       "600       1392\n",
       "2000      1124\n",
       "700       1106\n",
       "800        842\n",
       "900        675\n",
       "3000       580\n",
       "4000       373\n",
       "10000      288\n",
       "5000       260\n",
       "6000       173\n",
       "7000       122\n",
       "8000        90\n",
       "9000        83\n",
       "20000       79\n",
       "30000       15\n",
       "40000        8\n",
       "60000        3\n",
       "50000        2\n",
       "1            1\n",
       "Name: count, dtype: int64"
      ]
     },
     "execution_count": 27,
     "metadata": {},
     "output_type": "execute_result"
    }
   ],
   "source": [
    "# Hapus baris di mana kolom 'price' atau 'quantity' mengandung 0\n",
    "nd = nd[(nd['price'] != 0) & (nd['quantity'] != 0)].dropna()\n",
    "\n",
    "nd['quantity'].value_counts()"
   ]
  },
  {
   "cell_type": "code",
   "execution_count": 29,
   "id": "e64812d6-ce86-4628-83cf-20b6142077b9",
   "metadata": {},
   "outputs": [
    {
     "data": {
      "text/plain": [
       "ID              81537\n",
       "name            81537\n",
       "rating          81537\n",
       "reviewCount     81537\n",
       "price           81537\n",
       "categoryName    81537\n",
       "isBestSeller    81537\n",
       "quantity        81537\n",
       "dtype: int64"
      ]
     },
     "execution_count": 29,
     "metadata": {},
     "output_type": "execute_result"
    }
   ],
   "source": [
    "nd.count()"
   ]
  },
  {
   "cell_type": "code",
   "execution_count": 31,
   "id": "0873e832-d0cb-480a-8a15-cc8fda8b06c8",
   "metadata": {},
   "outputs": [
    {
     "data": {
      "image/png": "[encoded data removed]",
      "text/plain": [
       "<Figure size 640x480 with 1 Axes>"
      ]
     },
     "metadata": {},
     "output_type": "display_data"
    }
   ],
   "source": [
    "# Cek outlier\n",
    "sns.boxplot(x=nd['quantity'])\n",
    "plt.show()"
   ]
  },
  {
   "cell_type": "code",
   "execution_count": 39,
   "id": "60e8a6bd-7777-4667-815f-6963ba21bb0c",
   "metadata": {},
   "outputs": [
    {
     "data": {
      "text/plain": [
       "(69167, 8)"
      ]
     },
     "execution_count": 39,
     "metadata": {},
     "output_type": "execute_result"
    }
   ],
   "source": [
    "'''range quantity dibatasi 400'''\n",
    "nd = nd[nd['quantity'] <= 400]\n",
    "nd.shape"
   ]
  },
  {
   "cell_type": "code",
   "execution_count": 41,
   "id": "bf8a27bd-c5aa-49c3-b31e-e917176b6901",
   "metadata": {},
   "outputs": [
    {
     "data": {
      "image/png": "[encoded data removed]",
      "text/plain": [
       "<Figure size 640x480 with 1 Axes>"
      ]
     },
     "metadata": {},
     "output_type": "display_data"
    }
   ],
   "source": [
    "# Setelah outlier quantity dibuang\n",
    "sns.boxplot(x=nd['quantity'])\n",
    "plt.show()"
   ]
  },
  {
   "cell_type": "code",
   "execution_count": 43,
   "id": "8b8952bf-5879-492b-b065-258fa80734d0",
   "metadata": {},
   "outputs": [
    {
     "data": {
      "image/png": "[encoded data removed]",
      "text/plain": [
       "<Figure size 640x480 with 1 Axes>"
      ]
     },
     "metadata": {},
     "output_type": "display_data"
    }
   ],
   "source": [
    "# Cek outlier price\n",
    "sns.boxplot(x=nd['price'])\n",
    "plt.show()"
   ]
  },
  {
   "cell_type": "code",
   "execution_count": 45,
   "id": "073e602a-e986-43c8-9e54-dfd4b0a8cab7",
   "metadata": {},
   "outputs": [
    {
     "data": {
      "text/plain": [
       "price\n",
       "299.00     1967\n",
       "199.00     1487\n",
       "499.00     1395\n",
       "399.00     1240\n",
       "249.00      888\n",
       "           ... \n",
       "623.76        1\n",
       "70.86         1\n",
       "398.49        1\n",
       "6246.00       1\n",
       "178.75        1\n",
       "Name: count, Length: 4892, dtype: int64"
      ]
     },
     "execution_count": 45,
     "metadata": {},
     "output_type": "execute_result"
    }
   ],
   "source": [
    "nd['price'].value_counts()"
   ]
  },
  {
   "cell_type": "code",
   "execution_count": 47,
   "id": "3ef660be-69d1-4fe2-b0e6-3951024fb526",
   "metadata": {},
   "outputs": [
    {
     "data": {
      "text/html": [
       "<div>\n",
       "<style scoped>\n",
       "    .dataframe tbody tr th:only-of-type {\n",
       "        vertical-align: middle;\n",
       "    }\n",
       "\n",
       "    .dataframe tbody tr th {\n",
       "        vertical-align: top;\n",
       "    }\n",
       "\n",
       "    .dataframe thead th {\n",
       "        text-align: right;\n",
       "    }\n",
       "</style>\n",
       "<table border=\"1\" class=\"dataframe\">\n",
       "  <thead>\n",
       "    <tr style=\"text-align: right;\">\n",
       "      <th></th>\n",
       "      <th>ID</th>\n",
       "      <th>name</th>\n",
       "      <th>rating</th>\n",
       "      <th>reviewCount</th>\n",
       "      <th>price</th>\n",
       "      <th>categoryName</th>\n",
       "      <th>isBestSeller</th>\n",
       "      <th>quantity</th>\n",
       "      <th>city</th>\n",
       "    </tr>\n",
       "  </thead>\n",
       "  <tbody>\n",
       "    <tr>\n",
       "      <th>2821</th>\n",
       "      <td>B0C58CD3L6</td>\n",
       "      <td>Kerala Style पुरुषों के लिए कॉटन वेल्क्रो पॉके...</td>\n",
       "      <td>4.6</td>\n",
       "      <td>9</td>\n",
       "      <td>349.00</td>\n",
       "      <td>पुरुषों की धोती</td>\n",
       "      <td>False</td>\n",
       "      <td>50</td>\n",
       "      <td>Hyderabad</td>\n",
       "    </tr>\n",
       "    <tr>\n",
       "      <th>2836</th>\n",
       "      <td>B08B1WNZ4Z</td>\n",
       "      <td>पुरुषों के लिए ट्रेडिशनल कॉटन सिंगल धोती लंज ब...</td>\n",
       "      <td>3.9</td>\n",
       "      <td>177</td>\n",
       "      <td>374.00</td>\n",
       "      <td>पुरुषों की धोती</td>\n",
       "      <td>False</td>\n",
       "      <td>300</td>\n",
       "      <td>Mumbai</td>\n",
       "    </tr>\n",
       "    <tr>\n",
       "      <th>2840</th>\n",
       "      <td>B0C5LX7VCQ</td>\n",
       "      <td>पुरुषों के लिए रेडीमेड इलास्टिक कॉटन सिल्क धोत...</td>\n",
       "      <td>4.0</td>\n",
       "      <td>26</td>\n",
       "      <td>424.00</td>\n",
       "      <td>पुरुषों की धोती</td>\n",
       "      <td>True</td>\n",
       "      <td>200</td>\n",
       "      <td>Bangalore</td>\n",
       "    </tr>\n",
       "    <tr>\n",
       "      <th>2860</th>\n",
       "      <td>B08P5SZGRP</td>\n",
       "      <td>RV कॉटन (100% कॉटन) पुरुषों के लिए वेल्क्रो पॉ...</td>\n",
       "      <td>3.8</td>\n",
       "      <td>186</td>\n",
       "      <td>521.55</td>\n",
       "      <td>पुरुषों की धोती</td>\n",
       "      <td>False</td>\n",
       "      <td>50</td>\n",
       "      <td>Pune</td>\n",
       "    </tr>\n",
       "    <tr>\n",
       "      <th>2878</th>\n",
       "      <td>B01DLPESHQ</td>\n",
       "      <td>पुरुषों के लिए मिश्रित कॉटन लुंगी (मल्टीकलर, 2...</td>\n",
       "      <td>3.7</td>\n",
       "      <td>1531</td>\n",
       "      <td>399.00</td>\n",
       "      <td>पुरुषों की धोती</td>\n",
       "      <td>False</td>\n",
       "      <td>50</td>\n",
       "      <td>Jaipur</td>\n",
       "    </tr>\n",
       "  </tbody>\n",
       "</table>\n",
       "</div>"
      ],
      "text/plain": [
       "              ID                                               name  rating  \\\n",
       "2821  B0C58CD3L6  Kerala Style पुरुषों के लिए कॉटन वेल्क्रो पॉके...     4.6   \n",
       "2836  B08B1WNZ4Z  पुरुषों के लिए ट्रेडिशनल कॉटन सिंगल धोती लंज ब...     3.9   \n",
       "2840  B0C5LX7VCQ  पुरुषों के लिए रेडीमेड इलास्टिक कॉटन सिल्क धोत...     4.0   \n",
       "2860  B08P5SZGRP  RV कॉटन (100% कॉटन) पुरुषों के लिए वेल्क्रो पॉ...     3.8   \n",
       "2878  B01DLPESHQ  पुरुषों के लिए मिश्रित कॉटन लुंगी (मल्टीकलर, 2...     3.7   \n",
       "\n",
       "      reviewCount   price     categoryName  isBestSeller  quantity       city  \n",
       "2821            9  349.00  पुरुषों की धोती         False        50  Hyderabad  \n",
       "2836          177  374.00  पुरुषों की धोती         False       300     Mumbai  \n",
       "2840           26  424.00  पुरुषों की धोती          True       200  Bangalore  \n",
       "2860          186  521.55  पुरुषों की धोती         False        50       Pune  \n",
       "2878         1531  399.00  पुरुषों की धोती         False        50     Jaipur  "
      ]
     },
     "execution_count": 47,
     "metadata": {},
     "output_type": "execute_result"
    }
   ],
   "source": [
    "''' Generate new column (City) '''\n",
    "# Kota-kota populer di India\n",
    "cities = ['Mumbai', 'Delhi', 'Bangalore', 'Hyderabad', 'Chennai', \n",
    "          'Kolkata', 'Ahmedabad', 'Pune', 'Jaipur', 'Lucknow']\n",
    "\n",
    "# Distribusi probabilitas (tidak rata)\n",
    "probabilities = [0.2, 0.2, 0.15, 0.1, 0.1, 0.1, 0.05, 0.05, 0.03, 0.02]\n",
    "\n",
    "# Tambahkan kolom 'city' dengan nilai random berdasarkan probabilitas\n",
    "nd['city'] = np.random.choice(cities, size=len(nd), p=probabilities)\n",
    "\n",
    "nd.head()"
   ]
  },
  {
   "cell_type": "code",
   "execution_count": 49,
   "id": "c14dbc10-3a55-4944-ac37-117a23057cd2",
   "metadata": {},
   "outputs": [],
   "source": [
    "# Export into CSV\n",
    "nd.to_csv(\"C:/Users/HP/Desktop/Data Amazon/AmazonNd.csv\", index=False)"
   ]
  },
  {
   "cell_type": "code",
   "execution_count": null,
   "id": "402a4286-0bcf-475c-97a3-bafc46218444",
   "metadata": {},
   "outputs": [],
   "source": []
  }
 ],
 "metadata": {
  "kernelspec": {
   "display_name": "Python 3 (ipykernel)",
   "language": "python",
   "name": "python3"
  },
  "language_info": {
   "codemirror_mode": {
    "name": "ipython",
    "version": 3
   },
   "file_extension": ".py",
   "mimetype": "text/x-python",
   "name": "python",
   "nbconvert_exporter": "python",
   "pygments_lexer": "ipython3",
   "version": "3.12.7"
  }
 },
 "nbformat": 4,
 "nbformat_minor": 5
}
