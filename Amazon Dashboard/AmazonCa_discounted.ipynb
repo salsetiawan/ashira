{
 "cells": [
  {
   "cell_type": "code",
   "execution_count": 1,
   "id": "6e026196-31df-47ab-a2a8-9ef4a710454e",
   "metadata": {},
   "outputs": [],
   "source": [
    "# import Library yang dibutuhkan\n",
    "import pandas as pd                   #dataframe manipulation\n",
    "import numpy as np                    #scientific camputing\n",
    "import seaborn as sns                 #visualization\n",
    "import matplotlib.pyplot as plt       #visualization\n",
    "%matplotlib inline\n",
    "sns.set(color_codes=True)\n",
    "\n",
    "import warnings\n",
    "warnings.filterwarnings('ignore')"
   ]
  },
  {
   "cell_type": "code",
   "execution_count": 37,
   "id": "48a2f894-aa16-465c-b065-0233d2dc8fa6",
   "metadata": {},
   "outputs": [],
   "source": [
    "# import csv\n",
    "cd = pd.read_csv(\"C:/Users/HP/Desktop/Data Amazon/amz_ca.csv\") "
   ]
  },
  {
   "cell_type": "code",
   "execution_count": 11,
   "id": "54518486-2918-4d2e-8e62-4dc4c34423f9",
   "metadata": {},
   "outputs": [
    {
     "data": {
      "text/html": [
       "<div>\n",
       "<style scoped>\n",
       "    .dataframe tbody tr th:only-of-type {\n",
       "        vertical-align: middle;\n",
       "    }\n",
       "\n",
       "    .dataframe tbody tr th {\n",
       "        vertical-align: top;\n",
       "    }\n",
       "\n",
       "    .dataframe thead th {\n",
       "        text-align: right;\n",
       "    }\n",
       "</style>\n",
       "<table border=\"1\" class=\"dataframe\">\n",
       "  <thead>\n",
       "    <tr style=\"text-align: right;\">\n",
       "      <th></th>\n",
       "      <th>asin</th>\n",
       "      <th>title</th>\n",
       "      <th>stars</th>\n",
       "      <th>reviews</th>\n",
       "      <th>price</th>\n",
       "      <th>listPrice</th>\n",
       "      <th>categoryName</th>\n",
       "      <th>isBestSeller</th>\n",
       "      <th>boughtInLastMonth</th>\n",
       "    </tr>\n",
       "  </thead>\n",
       "  <tbody>\n",
       "    <tr>\n",
       "      <th>0</th>\n",
       "      <td>B07CV4L6HX</td>\n",
       "      <td>Green Leaf WW3D Wonder Extension Cord Winder, ...</td>\n",
       "      <td>4.4</td>\n",
       "      <td>2876</td>\n",
       "      <td>47.69</td>\n",
       "      <td>0.00</td>\n",
       "      <td>Industrial  Scientific</td>\n",
       "      <td>False</td>\n",
       "      <td>0</td>\n",
       "    </tr>\n",
       "    <tr>\n",
       "      <th>1</th>\n",
       "      <td>B09N1HGY74</td>\n",
       "      <td>8pcs Toilet Seat Bumpers Universal Toilet Repl...</td>\n",
       "      <td>3.8</td>\n",
       "      <td>55</td>\n",
       "      <td>10.99</td>\n",
       "      <td>0.00</td>\n",
       "      <td>Industrial  Scientific</td>\n",
       "      <td>False</td>\n",
       "      <td>100</td>\n",
       "    </tr>\n",
       "    <tr>\n",
       "      <th>2</th>\n",
       "      <td>B087P7538J</td>\n",
       "      <td>YaeCCC 19 Pcs Hole Saw Kit 3/4''(19mm)- 6''(15...</td>\n",
       "      <td>4.0</td>\n",
       "      <td>126</td>\n",
       "      <td>25.99</td>\n",
       "      <td>27.99</td>\n",
       "      <td>Industrial  Scientific</td>\n",
       "      <td>False</td>\n",
       "      <td>50</td>\n",
       "    </tr>\n",
       "    <tr>\n",
       "      <th>3</th>\n",
       "      <td>B0822FF7YQ</td>\n",
       "      <td>LLPT Butyl Putty Tape White 1 Inch x 33Ft Tigh...</td>\n",
       "      <td>4.5</td>\n",
       "      <td>1936</td>\n",
       "      <td>21.99</td>\n",
       "      <td>30.99</td>\n",
       "      <td>Industrial  Scientific</td>\n",
       "      <td>False</td>\n",
       "      <td>100</td>\n",
       "    </tr>\n",
       "    <tr>\n",
       "      <th>4</th>\n",
       "      <td>B08NTR8NN4</td>\n",
       "      <td>Lightbeam 16\" Long Stem Deep Fry Thermometer w...</td>\n",
       "      <td>4.2</td>\n",
       "      <td>46</td>\n",
       "      <td>18.99</td>\n",
       "      <td>0.00</td>\n",
       "      <td>Industrial  Scientific</td>\n",
       "      <td>False</td>\n",
       "      <td>100</td>\n",
       "    </tr>\n",
       "  </tbody>\n",
       "</table>\n",
       "</div>"
      ],
      "text/plain": [
       "         asin                                              title  stars  \\\n",
       "0  B07CV4L6HX  Green Leaf WW3D Wonder Extension Cord Winder, ...    4.4   \n",
       "1  B09N1HGY74  8pcs Toilet Seat Bumpers Universal Toilet Repl...    3.8   \n",
       "2  B087P7538J  YaeCCC 19 Pcs Hole Saw Kit 3/4''(19mm)- 6''(15...    4.0   \n",
       "3  B0822FF7YQ  LLPT Butyl Putty Tape White 1 Inch x 33Ft Tigh...    4.5   \n",
       "4  B08NTR8NN4  Lightbeam 16\" Long Stem Deep Fry Thermometer w...    4.2   \n",
       "\n",
       "   reviews  price  listPrice            categoryName  isBestSeller  \\\n",
       "0     2876  47.69       0.00  Industrial  Scientific         False   \n",
       "1       55  10.99       0.00  Industrial  Scientific         False   \n",
       "2      126  25.99      27.99  Industrial  Scientific         False   \n",
       "3     1936  21.99      30.99  Industrial  Scientific         False   \n",
       "4       46  18.99       0.00  Industrial  Scientific         False   \n",
       "\n",
       "   boughtInLastMonth  \n",
       "0                  0  \n",
       "1                100  \n",
       "2                 50  \n",
       "3                100  \n",
       "4                100  "
      ]
     },
     "execution_count": 11,
     "metadata": {},
     "output_type": "execute_result"
    }
   ],
   "source": [
    "# Hapus kolom yang tidak digunakan\n",
    "cd = cd.drop(['imgUrl', 'productURL'], axis=1) \n",
    "\n",
    "cd.head()"
   ]
  },
  {
   "cell_type": "code",
   "execution_count": 17,
   "id": "e830b399-2d84-4477-a98a-bb925267e06e",
   "metadata": {},
   "outputs": [
    {
     "data": {
      "text/html": [
       "<div>\n",
       "<style scoped>\n",
       "    .dataframe tbody tr th:only-of-type {\n",
       "        vertical-align: middle;\n",
       "    }\n",
       "\n",
       "    .dataframe tbody tr th {\n",
       "        vertical-align: top;\n",
       "    }\n",
       "\n",
       "    .dataframe thead th {\n",
       "        text-align: right;\n",
       "    }\n",
       "</style>\n",
       "<table border=\"1\" class=\"dataframe\">\n",
       "  <thead>\n",
       "    <tr style=\"text-align: right;\">\n",
       "      <th></th>\n",
       "      <th>ID</th>\n",
       "      <th>name</th>\n",
       "      <th>rating</th>\n",
       "      <th>reviewCount</th>\n",
       "      <th>discountedPrice</th>\n",
       "      <th>normalPrice</th>\n",
       "      <th>categoryName</th>\n",
       "      <th>isBestSeller</th>\n",
       "      <th>quantity</th>\n",
       "    </tr>\n",
       "  </thead>\n",
       "  <tbody>\n",
       "    <tr>\n",
       "      <th>0</th>\n",
       "      <td>B07CV4L6HX</td>\n",
       "      <td>Green Leaf WW3D Wonder Extension Cord Winder, ...</td>\n",
       "      <td>4.4</td>\n",
       "      <td>2876</td>\n",
       "      <td>47.69</td>\n",
       "      <td>0.00</td>\n",
       "      <td>Industrial  Scientific</td>\n",
       "      <td>False</td>\n",
       "      <td>0</td>\n",
       "    </tr>\n",
       "    <tr>\n",
       "      <th>1</th>\n",
       "      <td>B09N1HGY74</td>\n",
       "      <td>8pcs Toilet Seat Bumpers Universal Toilet Repl...</td>\n",
       "      <td>3.8</td>\n",
       "      <td>55</td>\n",
       "      <td>10.99</td>\n",
       "      <td>0.00</td>\n",
       "      <td>Industrial  Scientific</td>\n",
       "      <td>False</td>\n",
       "      <td>100</td>\n",
       "    </tr>\n",
       "    <tr>\n",
       "      <th>2</th>\n",
       "      <td>B087P7538J</td>\n",
       "      <td>YaeCCC 19 Pcs Hole Saw Kit 3/4''(19mm)- 6''(15...</td>\n",
       "      <td>4.0</td>\n",
       "      <td>126</td>\n",
       "      <td>25.99</td>\n",
       "      <td>27.99</td>\n",
       "      <td>Industrial  Scientific</td>\n",
       "      <td>False</td>\n",
       "      <td>50</td>\n",
       "    </tr>\n",
       "    <tr>\n",
       "      <th>3</th>\n",
       "      <td>B0822FF7YQ</td>\n",
       "      <td>LLPT Butyl Putty Tape White 1 Inch x 33Ft Tigh...</td>\n",
       "      <td>4.5</td>\n",
       "      <td>1936</td>\n",
       "      <td>21.99</td>\n",
       "      <td>30.99</td>\n",
       "      <td>Industrial  Scientific</td>\n",
       "      <td>False</td>\n",
       "      <td>100</td>\n",
       "    </tr>\n",
       "    <tr>\n",
       "      <th>4</th>\n",
       "      <td>B08NTR8NN4</td>\n",
       "      <td>Lightbeam 16\" Long Stem Deep Fry Thermometer w...</td>\n",
       "      <td>4.2</td>\n",
       "      <td>46</td>\n",
       "      <td>18.99</td>\n",
       "      <td>0.00</td>\n",
       "      <td>Industrial  Scientific</td>\n",
       "      <td>False</td>\n",
       "      <td>100</td>\n",
       "    </tr>\n",
       "  </tbody>\n",
       "</table>\n",
       "</div>"
      ],
      "text/plain": [
       "           ID                                               name  rating  \\\n",
       "0  B07CV4L6HX  Green Leaf WW3D Wonder Extension Cord Winder, ...     4.4   \n",
       "1  B09N1HGY74  8pcs Toilet Seat Bumpers Universal Toilet Repl...     3.8   \n",
       "2  B087P7538J  YaeCCC 19 Pcs Hole Saw Kit 3/4''(19mm)- 6''(15...     4.0   \n",
       "3  B0822FF7YQ  LLPT Butyl Putty Tape White 1 Inch x 33Ft Tigh...     4.5   \n",
       "4  B08NTR8NN4  Lightbeam 16\" Long Stem Deep Fry Thermometer w...     4.2   \n",
       "\n",
       "   reviewCount  discountedPrice  normalPrice            categoryName  \\\n",
       "0         2876            47.69         0.00  Industrial  Scientific   \n",
       "1           55            10.99         0.00  Industrial  Scientific   \n",
       "2          126            25.99        27.99  Industrial  Scientific   \n",
       "3         1936            21.99        30.99  Industrial  Scientific   \n",
       "4           46            18.99         0.00  Industrial  Scientific   \n",
       "\n",
       "   isBestSeller  quantity  \n",
       "0         False         0  \n",
       "1         False       100  \n",
       "2         False        50  \n",
       "3         False       100  \n",
       "4         False       100  "
      ]
     },
     "execution_count": 17,
     "metadata": {},
     "output_type": "execute_result"
    }
   ],
   "source": [
    "# Rename kolom\n",
    "cd = cd.rename(columns = {\"asin\" : \"ID\", \n",
    "                          \"title\" : \"name\",\n",
    "                         \"stars\" : \"rating\",\n",
    "                         \"reviews\" : \"reviewCount\",\n",
    "                          \"price\" : \"discountedPrice\",\n",
    "                          \"listPrice\" : \"normalPrice\",\n",
    "                         \"boughtInLastMonth\" : \"quantity\"})\n",
    "\n",
    "cd.head()"
   ]
  },
  {
   "cell_type": "code",
   "execution_count": 19,
   "id": "7eb64c07-847b-4a3e-90d1-8ba190bb032a",
   "metadata": {},
   "outputs": [
    {
     "data": {
      "text/plain": [
       "quantity\n",
       "50       9869\n",
       "100      6072\n",
       "200      2423\n",
       "300      1244\n",
       "400       778\n",
       "1000      724\n",
       "500       516\n",
       "600       378\n",
       "700       273\n",
       "800       236\n",
       "2000      203\n",
       "900       168\n",
       "3000       96\n",
       "4000       43\n",
       "5000       23\n",
       "6000       15\n",
       "8000       11\n",
       "7000        9\n",
       "10000       8\n",
       "9000        3\n",
       "20000       1\n",
       "Name: count, dtype: int64"
      ]
     },
     "execution_count": 19,
     "metadata": {},
     "output_type": "execute_result"
    }
   ],
   "source": [
    "# Hapus baris di mana kolom 'price' atau 'quantity' mengandung 0\n",
    "cd = cd[(cd['discountedPrice'] != 0) & (cd['quantity'] != 0) & (cd['normalPrice'] != 0)].dropna()\n",
    "\n",
    "cd['quantity'].value_counts()"
   ]
  },
  {
   "cell_type": "code",
   "execution_count": 21,
   "id": "e64812d6-ce86-4628-83cf-20b6142077b9",
   "metadata": {},
   "outputs": [
    {
     "data": {
      "text/plain": [
       "ID                 23093\n",
       "name               23093\n",
       "rating             23093\n",
       "reviewCount        23093\n",
       "discountedPrice    23093\n",
       "normalPrice        23093\n",
       "categoryName       23093\n",
       "isBestSeller       23093\n",
       "quantity           23093\n",
       "dtype: int64"
      ]
     },
     "execution_count": 21,
     "metadata": {},
     "output_type": "execute_result"
    }
   ],
   "source": [
    "cd.count()"
   ]
  },
  {
   "cell_type": "code",
   "execution_count": 23,
   "id": "0873e832-d0cb-480a-8a15-cc8fda8b06c8",
   "metadata": {},
   "outputs": [
    {
     "data": {
      "image/png": "[encoded data removed]",
      "text/plain": [
       "<Figure size 640x480 with 1 Axes>"
      ]
     },
     "metadata": {},
     "output_type": "display_data"
    }
   ],
   "source": [
    "# Cek outlier\n",
    "sns.boxplot(x=cd['quantity'])\n",
    "plt.show()"
   ]
  },
  {
   "cell_type": "code",
   "execution_count": 25,
   "id": "60e8a6bd-7777-4667-815f-6963ba21bb0c",
   "metadata": {},
   "outputs": [
    {
     "data": {
      "text/plain": [
       "(20386, 9)"
      ]
     },
     "execution_count": 25,
     "metadata": {},
     "output_type": "execute_result"
    }
   ],
   "source": [
    "'''range quantity dibatasi 400'''\n",
    "cd = cd[cd['quantity'] <= 400]\n",
    "cd.shape"
   ]
  },
  {
   "cell_type": "code",
   "execution_count": 27,
   "id": "bf8a27bd-c5aa-49c3-b31e-e917176b6901",
   "metadata": {},
   "outputs": [
    {
     "data": {
      "image/png": "[encoded data removed]",
      "text/plain": [
       "<Figure size 640x480 with 1 Axes>"
      ]
     },
     "metadata": {},
     "output_type": "display_data"
    }
   ],
   "source": [
    "# Setelah outlier quantity dibuang\n",
    "sns.boxplot(x=cd['quantity'])\n",
    "plt.show()"
   ]
  },
  {
   "cell_type": "code",
   "execution_count": 31,
   "id": "8b8952bf-5879-492b-b065-258fa80734d0",
   "metadata": {},
   "outputs": [
    {
     "data": {
      "image/png": "[encoded data removed]",
      "text/plain": [
       "<Figure size 640x480 with 1 Axes>"
      ]
     },
     "metadata": {},
     "output_type": "display_data"
    }
   ],
   "source": [
    "# Cek outlier price\n",
    "sns.boxplot(x=cd['discountedPrice'])\n",
    "plt.show()"
   ]
  },
  {
   "cell_type": "code",
   "execution_count": 33,
   "id": "3ef660be-69d1-4fe2-b0e6-3951024fb526",
   "metadata": {},
   "outputs": [
    {
     "data": {
      "text/html": [
       "<div>\n",
       "<style scoped>\n",
       "    .dataframe tbody tr th:only-of-type {\n",
       "        vertical-align: middle;\n",
       "    }\n",
       "\n",
       "    .dataframe tbody tr th {\n",
       "        vertical-align: top;\n",
       "    }\n",
       "\n",
       "    .dataframe thead th {\n",
       "        text-align: right;\n",
       "    }\n",
       "</style>\n",
       "<table border=\"1\" class=\"dataframe\">\n",
       "  <thead>\n",
       "    <tr style=\"text-align: right;\">\n",
       "      <th></th>\n",
       "      <th>ID</th>\n",
       "      <th>name</th>\n",
       "      <th>rating</th>\n",
       "      <th>reviewCount</th>\n",
       "      <th>discountedPrice</th>\n",
       "      <th>normalPrice</th>\n",
       "      <th>categoryName</th>\n",
       "      <th>isBestSeller</th>\n",
       "      <th>quantity</th>\n",
       "      <th>city</th>\n",
       "    </tr>\n",
       "  </thead>\n",
       "  <tbody>\n",
       "    <tr>\n",
       "      <th>0</th>\n",
       "      <td>B087P7538J</td>\n",
       "      <td>YaeCCC 19 Pcs Hole Saw Kit 3/4''(19mm)- 6''(15...</td>\n",
       "      <td>4.0</td>\n",
       "      <td>126</td>\n",
       "      <td>25.99</td>\n",
       "      <td>27.99</td>\n",
       "      <td>Industrial  Scientific</td>\n",
       "      <td>False</td>\n",
       "      <td>50</td>\n",
       "      <td>Toronto</td>\n",
       "    </tr>\n",
       "    <tr>\n",
       "      <th>1</th>\n",
       "      <td>B0822FF7YQ</td>\n",
       "      <td>LLPT Butyl Putty Tape White 1 Inch x 33Ft Tigh...</td>\n",
       "      <td>4.5</td>\n",
       "      <td>1936</td>\n",
       "      <td>21.99</td>\n",
       "      <td>30.99</td>\n",
       "      <td>Industrial  Scientific</td>\n",
       "      <td>False</td>\n",
       "      <td>100</td>\n",
       "      <td>Montreal</td>\n",
       "    </tr>\n",
       "    <tr>\n",
       "      <th>2</th>\n",
       "      <td>B07KMT96S2</td>\n",
       "      <td>Knife Sharpening Stone,400/1000.2000/5000 Doub...</td>\n",
       "      <td>4.4</td>\n",
       "      <td>366</td>\n",
       "      <td>29.99</td>\n",
       "      <td>35.99</td>\n",
       "      <td>Industrial  Scientific</td>\n",
       "      <td>False</td>\n",
       "      <td>50</td>\n",
       "      <td>Montreal</td>\n",
       "    </tr>\n",
       "    <tr>\n",
       "      <th>3</th>\n",
       "      <td>B088M3JCP2</td>\n",
       "      <td>Heat Insulation Silicone Repair Mat with Scale...</td>\n",
       "      <td>4.7</td>\n",
       "      <td>142</td>\n",
       "      <td>21.99</td>\n",
       "      <td>25.99</td>\n",
       "      <td>Industrial  Scientific</td>\n",
       "      <td>False</td>\n",
       "      <td>50</td>\n",
       "      <td>Toronto</td>\n",
       "    </tr>\n",
       "    <tr>\n",
       "      <th>4</th>\n",
       "      <td>B000LQEV9Y</td>\n",
       "      <td>Sunex 2300, 1/2\" Drive, Universal Impact Joint...</td>\n",
       "      <td>4.7</td>\n",
       "      <td>1828</td>\n",
       "      <td>24.00</td>\n",
       "      <td>26.71</td>\n",
       "      <td>Industrial  Scientific</td>\n",
       "      <td>False</td>\n",
       "      <td>50</td>\n",
       "      <td>Edmonton</td>\n",
       "    </tr>\n",
       "  </tbody>\n",
       "</table>\n",
       "</div>"
      ],
      "text/plain": [
       "           ID                                               name  rating  \\\n",
       "0  B087P7538J  YaeCCC 19 Pcs Hole Saw Kit 3/4''(19mm)- 6''(15...     4.0   \n",
       "1  B0822FF7YQ  LLPT Butyl Putty Tape White 1 Inch x 33Ft Tigh...     4.5   \n",
       "2  B07KMT96S2  Knife Sharpening Stone,400/1000.2000/5000 Doub...     4.4   \n",
       "3  B088M3JCP2  Heat Insulation Silicone Repair Mat with Scale...     4.7   \n",
       "4  B000LQEV9Y  Sunex 2300, 1/2\" Drive, Universal Impact Joint...     4.7   \n",
       "\n",
       "   reviewCount  discountedPrice  normalPrice            categoryName  \\\n",
       "0          126            25.99        27.99  Industrial  Scientific   \n",
       "1         1936            21.99        30.99  Industrial  Scientific   \n",
       "2          366            29.99        35.99  Industrial  Scientific   \n",
       "3          142            21.99        25.99  Industrial  Scientific   \n",
       "4         1828            24.00        26.71  Industrial  Scientific   \n",
       "\n",
       "   isBestSeller  quantity      city  \n",
       "0         False        50   Toronto  \n",
       "1         False       100  Montreal  \n",
       "2         False        50  Montreal  \n",
       "3         False        50   Toronto  \n",
       "4         False        50  Edmonton  "
      ]
     },
     "execution_count": 33,
     "metadata": {},
     "output_type": "execute_result"
    }
   ],
   "source": [
    "''' Kolom City diambil dari tabel Ca  '''\n",
    "ca = pd.read_csv(\"C:/Users/HP/Desktop/Data Amazon/AmazonCa.csv\") \n",
    "\n",
    "# Merge kolom city\n",
    "cd = pd.merge(cd, ca[['ID', 'city']], on='ID', how='left')\n",
    "\n",
    "\n",
    "cd.head()"
   ]
  },
  {
   "cell_type": "code",
   "execution_count": 35,
   "id": "c14dbc10-3a55-4944-ac37-117a23057cd2",
   "metadata": {},
   "outputs": [],
   "source": [
    "# Export into CSV\n",
    "cd.to_csv(\"C:/Users/HP/Desktop/Data Amazon/AmazonCa_discounted.csv\", index=False)"
   ]
  },
  {
   "cell_type": "code",
   "execution_count": null,
   "id": "402a4286-0bcf-475c-97a3-bafc46218444",
   "metadata": {},
   "outputs": [],
   "source": []
  }
 ],
 "metadata": {
  "kernelspec": {
   "display_name": "Python 3 (ipykernel)",
   "language": "python",
   "name": "python3"
  },
  "language_info": {
   "codemirror_mode": {
    "name": "ipython",
    "version": 3
   },
   "file_extension": ".py",
   "mimetype": "text/x-python",
   "name": "python",
   "nbconvert_exporter": "python",
   "pygments_lexer": "ipython3",
   "version": "3.12.7"
  }
 },
 "nbformat": 4,
 "nbformat_minor": 5
}
