{
 "cells": [
  {
   "cell_type": "code",
   "execution_count": 2,
   "id": "a79f331c-ebda-4079-8d79-0dfb12acaf4c",
   "metadata": {},
   "outputs": [],
   "source": [
    "# import Library yang dibutuhkan\n",
    "import pandas as pd                   #dataframe manipulation\n",
    "import numpy as np                    #scientific camputing\n",
    "import seaborn as sns                 #visualization\n",
    "import matplotlib.pyplot as plt       #visualization\n",
    "%matplotlib inline\n",
    "sns.set(color_codes=True)\n",
    "\n",
    "import warnings\n",
    "warnings.filterwarnings('ignore')"
   ]
  },
  {
   "cell_type": "code",
   "execution_count": 4,
   "id": "fac88b72-4cec-4a7b-81b5-50d0feeee050",
   "metadata": {},
   "outputs": [],
   "source": [
    "# import csv\n",
    "uk = pd.read_csv(\"C:/Users/HP/Desktop/Data Amazon/AmazonUK.csv\") \n",
    "nd = pd.read_csv(\"C:/Users/HP/Desktop/Data Amazon/AmazonNd.csv\") \n",
    "ca = pd.read_csv(\"C:/Users/HP/Desktop/Data Amazon/AmazonCa.csv\") "
   ]
  },
  {
   "cell_type": "code",
   "execution_count": 6,
   "id": "7f32bf86-b935-483a-add1-5ef2949d8c46",
   "metadata": {},
   "outputs": [],
   "source": [
    "# tambah keterangan negara setiap tabel sebelum di merge\n",
    "uk['country'] = 'UK'\n",
    "ca['country'] = 'Canada'\n",
    "nd['country'] = 'India'"
   ]
  },
  {
   "cell_type": "code",
   "execution_count": 10,
   "id": "b0b55427-35f8-49b4-997f-4c740948754b",
   "metadata": {},
   "outputs": [
    {
     "data": {
      "text/html": [
       "<div>\n",
       "<style scoped>\n",
       "    .dataframe tbody tr th:only-of-type {\n",
       "        vertical-align: middle;\n",
       "    }\n",
       "\n",
       "    .dataframe tbody tr th {\n",
       "        vertical-align: top;\n",
       "    }\n",
       "\n",
       "    .dataframe thead th {\n",
       "        text-align: right;\n",
       "    }\n",
       "</style>\n",
       "<table border=\"1\" class=\"dataframe\">\n",
       "  <thead>\n",
       "    <tr style=\"text-align: right;\">\n",
       "      <th></th>\n",
       "      <th>ID</th>\n",
       "      <th>name</th>\n",
       "      <th>rating</th>\n",
       "      <th>reviewCount</th>\n",
       "      <th>price</th>\n",
       "      <th>isBestSeller</th>\n",
       "      <th>quantity</th>\n",
       "      <th>categoryName</th>\n",
       "      <th>city</th>\n",
       "      <th>country</th>\n",
       "    </tr>\n",
       "  </thead>\n",
       "  <tbody>\n",
       "    <tr>\n",
       "      <th>0</th>\n",
       "      <td>B083K77PZL</td>\n",
       "      <td>W-KING Bluetooth Speaker, 50W Speakers Wireles...</td>\n",
       "      <td>4.6</td>\n",
       "      <td>2979</td>\n",
       "      <td>65.59</td>\n",
       "      <td>False</td>\n",
       "      <td>200</td>\n",
       "      <td>Hi-Fi Speakers</td>\n",
       "      <td>Manchester</td>\n",
       "      <td>UK</td>\n",
       "    </tr>\n",
       "    <tr>\n",
       "      <th>1</th>\n",
       "      <td>B09J47Y789</td>\n",
       "      <td>XSOUND Portable Bluetooth Speaker Wireless 24W...</td>\n",
       "      <td>4.4</td>\n",
       "      <td>804</td>\n",
       "      <td>22.99</td>\n",
       "      <td>False</td>\n",
       "      <td>200</td>\n",
       "      <td>Hi-Fi Speakers</td>\n",
       "      <td>Manchester</td>\n",
       "      <td>UK</td>\n",
       "    </tr>\n",
       "    <tr>\n",
       "      <th>2</th>\n",
       "      <td>B08FCDFHLB</td>\n",
       "      <td>soundcore Anker Mini 3 Bluetooth Speaker, Bass...</td>\n",
       "      <td>4.7</td>\n",
       "      <td>3208</td>\n",
       "      <td>34.99</td>\n",
       "      <td>False</td>\n",
       "      <td>200</td>\n",
       "      <td>Hi-Fi Speakers</td>\n",
       "      <td>Manchester</td>\n",
       "      <td>UK</td>\n",
       "    </tr>\n",
       "    <tr>\n",
       "      <th>3</th>\n",
       "      <td>B096TJ6FXD</td>\n",
       "      <td>HEYSONG Shower Speaker, Waterpoof Portable Blu...</td>\n",
       "      <td>4.3</td>\n",
       "      <td>1279</td>\n",
       "      <td>21.99</td>\n",
       "      <td>False</td>\n",
       "      <td>100</td>\n",
       "      <td>Hi-Fi Speakers</td>\n",
       "      <td>Edinburgh</td>\n",
       "      <td>UK</td>\n",
       "    </tr>\n",
       "    <tr>\n",
       "      <th>4</th>\n",
       "      <td>B08ZJ6DQNY</td>\n",
       "      <td>Sony SRS-XB13 Wireless Extra Bass Portable Com...</td>\n",
       "      <td>4.3</td>\n",
       "      <td>15963</td>\n",
       "      <td>39.90</td>\n",
       "      <td>False</td>\n",
       "      <td>100</td>\n",
       "      <td>Hi-Fi Speakers</td>\n",
       "      <td>Leeds</td>\n",
       "      <td>UK</td>\n",
       "    </tr>\n",
       "  </tbody>\n",
       "</table>\n",
       "</div>"
      ],
      "text/plain": [
       "           ID                                               name  rating  \\\n",
       "0  B083K77PZL  W-KING Bluetooth Speaker, 50W Speakers Wireles...     4.6   \n",
       "1  B09J47Y789  XSOUND Portable Bluetooth Speaker Wireless 24W...     4.4   \n",
       "2  B08FCDFHLB  soundcore Anker Mini 3 Bluetooth Speaker, Bass...     4.7   \n",
       "3  B096TJ6FXD  HEYSONG Shower Speaker, Waterpoof Portable Blu...     4.3   \n",
       "4  B08ZJ6DQNY  Sony SRS-XB13 Wireless Extra Bass Portable Com...     4.3   \n",
       "\n",
       "   reviewCount  price  isBestSeller  quantity    categoryName        city  \\\n",
       "0         2979  65.59         False       200  Hi-Fi Speakers  Manchester   \n",
       "1          804  22.99         False       200  Hi-Fi Speakers  Manchester   \n",
       "2         3208  34.99         False       200  Hi-Fi Speakers  Manchester   \n",
       "3         1279  21.99         False       100  Hi-Fi Speakers   Edinburgh   \n",
       "4        15963  39.90         False       100  Hi-Fi Speakers       Leeds   \n",
       "\n",
       "  country  \n",
       "0      UK  \n",
       "1      UK  \n",
       "2      UK  \n",
       "3      UK  \n",
       "4      UK  "
      ]
     },
     "execution_count": 10,
     "metadata": {},
     "output_type": "execute_result"
    }
   ],
   "source": [
    "# Gabungkan semua data menjadi satu\n",
    "amz = pd.concat([uk, ca, nd], ignore_index=True)\n",
    "\n",
    "amz.head()"
   ]
  },
  {
   "cell_type": "code",
   "execution_count": 12,
   "id": "f0ffb171-0ae3-44cd-a0b1-e1b49c74e0c7",
   "metadata": {},
   "outputs": [
    {
     "data": {
      "text/plain": [
       "(307927, 10)"
      ]
     },
     "execution_count": 12,
     "metadata": {},
     "output_type": "execute_result"
    }
   ],
   "source": [
    "amz.shape"
   ]
  },
  {
   "cell_type": "code",
   "execution_count": 14,
   "id": "fe01042d-c245-4776-b688-c34b06843449",
   "metadata": {},
   "outputs": [],
   "source": [
    "amz.to_csv(\"C:/Users/HP/Desktop/Data Amazon/Amazon_sales.csv\", index=False)"
   ]
  },
  {
   "cell_type": "code",
   "execution_count": null,
   "id": "5927c815-e78d-409e-a049-8c3f2e04ee9f",
   "metadata": {},
   "outputs": [],
   "source": []
  }
 ],
 "metadata": {
  "kernelspec": {
   "display_name": "Python 3 (ipykernel)",
   "language": "python",
   "name": "python3"
  },
  "language_info": {
   "codemirror_mode": {
    "name": "ipython",
    "version": 3
   },
   "file_extension": ".py",
   "mimetype": "text/x-python",
   "name": "python",
   "nbconvert_exporter": "python",
   "pygments_lexer": "ipython3",
   "version": "3.12.7"
  }
 },
 "nbformat": 4,
 "nbformat_minor": 5
}
