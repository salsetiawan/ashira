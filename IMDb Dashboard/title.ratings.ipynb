{
 "cells": [
  {
   "cell_type": "code",
   "execution_count": 1,
   "id": "64b6815a-012e-4934-859d-7cebf9a555e7",
   "metadata": {},
   "outputs": [
    {
     "data": {
      "text/html": [
       "<div>\n",
       "<style scoped>\n",
       "    .dataframe tbody tr th:only-of-type {\n",
       "        vertical-align: middle;\n",
       "    }\n",
       "\n",
       "    .dataframe tbody tr th {\n",
       "        vertical-align: top;\n",
       "    }\n",
       "\n",
       "    .dataframe thead th {\n",
       "        text-align: right;\n",
       "    }\n",
       "</style>\n",
       "<table border=\"1\" class=\"dataframe\">\n",
       "  <thead>\n",
       "    <tr style=\"text-align: right;\">\n",
       "      <th></th>\n",
       "      <th>tconst</th>\n",
       "      <th>averageRating</th>\n",
       "      <th>numVotes</th>\n",
       "    </tr>\n",
       "  </thead>\n",
       "  <tbody>\n",
       "    <tr>\n",
       "      <th>0</th>\n",
       "      <td>tt0000001</td>\n",
       "      <td>5.7</td>\n",
       "      <td>2106</td>\n",
       "    </tr>\n",
       "    <tr>\n",
       "      <th>1</th>\n",
       "      <td>tt0000002</td>\n",
       "      <td>5.6</td>\n",
       "      <td>283</td>\n",
       "    </tr>\n",
       "    <tr>\n",
       "      <th>2</th>\n",
       "      <td>tt0000003</td>\n",
       "      <td>6.5</td>\n",
       "      <td>2128</td>\n",
       "    </tr>\n",
       "    <tr>\n",
       "      <th>3</th>\n",
       "      <td>tt0000004</td>\n",
       "      <td>5.4</td>\n",
       "      <td>182</td>\n",
       "    </tr>\n",
       "    <tr>\n",
       "      <th>4</th>\n",
       "      <td>tt0000005</td>\n",
       "      <td>6.2</td>\n",
       "      <td>2859</td>\n",
       "    </tr>\n",
       "  </tbody>\n",
       "</table>\n",
       "</div>"
      ],
      "text/plain": [
       "      tconst  averageRating  numVotes\n",
       "0  tt0000001            5.7      2106\n",
       "1  tt0000002            5.6       283\n",
       "2  tt0000003            6.5      2128\n",
       "3  tt0000004            5.4       182\n",
       "4  tt0000005            6.2      2859"
      ]
     },
     "execution_count": 1,
     "metadata": {},
     "output_type": "execute_result"
    }
   ],
   "source": [
    "# import Library yang dibutuhkan\n",
    "import pandas as pd                   #dataframe manipulation\n",
    "import numpy as np                    #scientific camputing\n",
    "import seaborn as sns                 #visualization\n",
    "import matplotlib.pyplot as plt       #visualization\n",
    "%matplotlib inline\n",
    "sns.set(color_codes=True)\n",
    "\n",
    "import warnings\n",
    "warnings.filterwarnings('ignore')\n",
    "\n",
    "\n",
    "# Tables yang akan digunakan\n",
    "'''\n",
    "name.basics.tsv.gz\n",
    "title.basics.tsv.gz\n",
    "title.crew.tsv.gz\n",
    "title.episode.tsv.gz\n",
    "title.ratings.tsv.gz\n",
    "'''\n",
    "\n",
    "# Load all the TSV file into a DataFrame\n",
    "#df = pd.read_csv(\"C:/Users/HP/Desktop/Data IMDb/name.basics.tsv\", sep='\\t', na_values=\"\\\\N\") \n",
    "#df = pd.read_csv(\"C:/Users/HP/Desktop/Data IMDb/title.basics.tsv\", sep='\\t', na_values=\"\\\\N\") \n",
    "#title_crew = pd.read_csv(\"C:/Users/HP/Desktop/Data IMDb/title.crew.tsv\", sep='\\t')\n",
    "#df = pd.read_csv(\"C:/Users/HP/Desktop/Data IMDb/title.episode.tsv\", sep='\\t'\n",
    "df = pd.read_csv(\"C:/Users/HP/Desktop/Data IMDb/title.ratings.tsv\", sep='\\t', na_values=\"\\\\N\") #formatting penulisan NaN\n",
    "\n",
    "# Display the first 5 rows\n",
    "df.head()\n",
    "#title_basics.head()\n",
    "#title_crew.head()\n",
    "#title_episode.head()\n",
    "#title_ratings.head()"
   ]
  },
  {
   "cell_type": "code",
   "execution_count": 3,
   "id": "1d3d44fa-2cb6-4704-ab31-67db56da84f5",
   "metadata": {},
   "outputs": [
    {
     "data": {
      "text/plain": [
       "tconst            object\n",
       "parentTconst      object\n",
       "seasonNumber     float64\n",
       "episodeNumber    float64\n",
       "dtype: object"
      ]
     },
     "execution_count": 3,
     "metadata": {},
     "output_type": "execute_result"
    }
   ],
   "source": [
    "'''Data Wrangling'''\n",
    "\n",
    "# Cek tipe data\n",
    "df.dtypes"
   ]
  },
  {
   "cell_type": "code",
   "execution_count": 3,
   "id": "e66f2a14-18e2-45e8-867d-dc5ef25b562e",
   "metadata": {},
   "outputs": [
    {
     "data": {
      "text/html": [
       "<div>\n",
       "<style scoped>\n",
       "    .dataframe tbody tr th:only-of-type {\n",
       "        vertical-align: middle;\n",
       "    }\n",
       "\n",
       "    .dataframe tbody tr th {\n",
       "        vertical-align: top;\n",
       "    }\n",
       "\n",
       "    .dataframe thead th {\n",
       "        text-align: right;\n",
       "    }\n",
       "</style>\n",
       "<table border=\"1\" class=\"dataframe\">\n",
       "  <thead>\n",
       "    <tr style=\"text-align: right;\">\n",
       "      <th></th>\n",
       "      <th>tconst</th>\n",
       "      <th>averageRating</th>\n",
       "      <th>numVotes</th>\n",
       "    </tr>\n",
       "  </thead>\n",
       "  <tbody>\n",
       "  </tbody>\n",
       "</table>\n",
       "</div>"
      ],
      "text/plain": [
       "Empty DataFrame\n",
       "Columns: [tconst, averageRating, numVotes]\n",
       "Index: []"
      ]
     },
     "execution_count": 3,
     "metadata": {},
     "output_type": "execute_result"
    }
   ],
   "source": [
    "# Menunjukkan Duplicates\n",
    "df[df.duplicated()]"
   ]
  },
  {
   "cell_type": "code",
   "execution_count": 5,
   "id": "a18215fb-be3e-460e-87a8-08f90e550f5e",
   "metadata": {},
   "outputs": [
    {
     "name": "stdout",
     "output_type": "stream",
     "text": [
      "tconst           0\n",
      "averageRating    0\n",
      "numVotes         0\n",
      "dtype: int64\n"
     ]
    }
   ],
   "source": [
    "# Cek Missing Values\n",
    "print(df.isnull().sum())"
   ]
  },
  {
   "cell_type": "code",
   "execution_count": 7,
   "id": "c2b45b3e-4cd4-4c8a-86ce-39c208cb6295",
   "metadata": {},
   "outputs": [
    {
     "data": {
      "text/plain": [
       "count    1.506750e+06\n",
       "mean     6.953882e+00\n",
       "std      1.386495e+00\n",
       "min      1.000000e+00\n",
       "25%      6.200000e+00\n",
       "50%      7.100000e+00\n",
       "75%      7.900000e+00\n",
       "max      1.000000e+01\n",
       "Name: averageRating, dtype: float64"
      ]
     },
     "execution_count": 7,
     "metadata": {},
     "output_type": "execute_result"
    }
   ],
   "source": [
    "# Untuk melihat nilai unik tiap kolom\n",
    "#df[\"seasonNumber\"].unique()\n",
    "df[\"averageRating\"].describe()"
   ]
  },
  {
   "cell_type": "code",
   "execution_count": 9,
   "id": "ef854fee-bf35-4660-9850-ffa35ecc30aa",
   "metadata": {},
   "outputs": [
    {
     "data": {
      "image/png": "[encoded data removed]",
      "text/plain": [
       "<Figure size 640x480 with 1 Axes>"
      ]
     },
     "metadata": {},
     "output_type": "display_data"
    }
   ],
   "source": [
    "# Cek outlier dg boxplot\n",
    "sns.boxplot(x=df['averageRating'])\n",
    "\n",
    "plt.show()"
   ]
  },
  {
   "cell_type": "code",
   "execution_count": 11,
   "id": "7fad0830-a352-4a36-8ac4-659185fbeb03",
   "metadata": {},
   "outputs": [
    {
     "data": {
      "text/plain": [
       "count    1.506750e+06\n",
       "mean     1.027454e+03\n",
       "std      1.776655e+04\n",
       "min      5.000000e+00\n",
       "25%      1.100000e+01\n",
       "50%      2.600000e+01\n",
       "75%      1.000000e+02\n",
       "max      2.970653e+06\n",
       "Name: numVotes, dtype: float64"
      ]
     },
     "execution_count": 11,
     "metadata": {},
     "output_type": "execute_result"
    }
   ],
   "source": [
    "# Untuk melihat nilai unik tiap kolom\n",
    "#df[\"seasonNumber\"].unique()\n",
    "df[\"numVotes\"].describe()"
   ]
  },
  {
   "cell_type": "code",
   "execution_count": 13,
   "id": "56110dee-c49d-4fa0-9bbb-34483aecddc0",
   "metadata": {},
   "outputs": [
    {
     "data": {
      "image/png": "[encoded data removed]",
      "text/plain": [
       "<Figure size 640x480 with 1 Axes>"
      ]
     },
     "metadata": {},
     "output_type": "display_data"
    }
   ],
   "source": [
    "# Cek outlier dg boxplot\n",
    "sns.boxplot(x=df['numVotes'])\n",
    "\n",
    "plt.show()"
   ]
  },
  {
   "cell_type": "code",
   "execution_count": 15,
   "id": "d933bcc7-16d0-4ec3-8cfd-ec41895d40cd",
   "metadata": {},
   "outputs": [
    {
     "data": {
      "text/html": [
       "<div>\n",
       "<style scoped>\n",
       "    .dataframe tbody tr th:only-of-type {\n",
       "        vertical-align: middle;\n",
       "    }\n",
       "\n",
       "    .dataframe tbody tr th {\n",
       "        vertical-align: top;\n",
       "    }\n",
       "\n",
       "    .dataframe thead th {\n",
       "        text-align: right;\n",
       "    }\n",
       "</style>\n",
       "<table border=\"1\" class=\"dataframe\">\n",
       "  <thead>\n",
       "    <tr style=\"text-align: right;\">\n",
       "      <th></th>\n",
       "      <th>tconst</th>\n",
       "      <th>averageRating</th>\n",
       "      <th>numVotes</th>\n",
       "    </tr>\n",
       "  </thead>\n",
       "  <tbody>\n",
       "    <tr>\n",
       "      <th>0</th>\n",
       "      <td>tt0000001</td>\n",
       "      <td>5.7</td>\n",
       "      <td>2106</td>\n",
       "    </tr>\n",
       "    <tr>\n",
       "      <th>1</th>\n",
       "      <td>tt0000002</td>\n",
       "      <td>5.6</td>\n",
       "      <td>283</td>\n",
       "    </tr>\n",
       "    <tr>\n",
       "      <th>2</th>\n",
       "      <td>tt0000003</td>\n",
       "      <td>6.5</td>\n",
       "      <td>2128</td>\n",
       "    </tr>\n",
       "    <tr>\n",
       "      <th>3</th>\n",
       "      <td>tt0000004</td>\n",
       "      <td>5.4</td>\n",
       "      <td>182</td>\n",
       "    </tr>\n",
       "    <tr>\n",
       "      <th>4</th>\n",
       "      <td>tt0000005</td>\n",
       "      <td>6.2</td>\n",
       "      <td>2859</td>\n",
       "    </tr>\n",
       "  </tbody>\n",
       "</table>\n",
       "</div>"
      ],
      "text/plain": [
       "      tconst  averageRating  numVotes\n",
       "0  tt0000001            5.7      2106\n",
       "1  tt0000002            5.6       283\n",
       "2  tt0000003            6.5      2128\n",
       "3  tt0000004            5.4       182\n",
       "4  tt0000005            6.2      2859"
      ]
     },
     "execution_count": 15,
     "metadata": {},
     "output_type": "execute_result"
    }
   ],
   "source": [
    "df.head()"
   ]
  },
  {
   "cell_type": "code",
   "execution_count": null,
   "id": "c8ac7ed3-3857-4303-8ea0-0b15abf0c28c",
   "metadata": {},
   "outputs": [],
   "source": [
    "'''tidak ada duplicates & missing value, outlier dibiarkan karena organik'''"
   ]
  },
  {
   "cell_type": "code",
   "execution_count": 17,
   "id": "981e3443-b622-4793-b93f-41280abc038e",
   "metadata": {},
   "outputs": [],
   "source": [
    "'''Export Dataframe'''\n",
    "\n",
    "# Export into CSV\n",
    "df.to_csv(\"C:/Users/HP/Desktop/Data IMDb/title.ratings.csv\", index=False)"
   ]
  },
  {
   "cell_type": "code",
   "execution_count": null,
   "id": "5091a532-08b4-4050-a087-77465ca0ba8a",
   "metadata": {},
   "outputs": [],
   "source": []
  }
 ],
 "metadata": {
  "kernelspec": {
   "display_name": "Python 3 (ipykernel)",
   "language": "python",
   "name": "python3"
  },
  "language_info": {
   "codemirror_mode": {
    "name": "ipython",
    "version": 3
   },
   "file_extension": ".py",
   "mimetype": "text/x-python",
   "name": "python",
   "nbconvert_exporter": "python",
   "pygments_lexer": "ipython3",
   "version": "3.12.7"
  }
 },
 "nbformat": 4,
 "nbformat_minor": 5
}
