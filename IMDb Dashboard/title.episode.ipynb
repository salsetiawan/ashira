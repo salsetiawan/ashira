{
 "cells": [
  {
   "cell_type": "code",
   "execution_count": 1,
   "id": "64b6815a-012e-4934-859d-7cebf9a555e7",
   "metadata": {},
   "outputs": [
    {
     "data": {
      "text/html": [
       "<div>\n",
       "<style scoped>\n",
       "    .dataframe tbody tr th:only-of-type {\n",
       "        vertical-align: middle;\n",
       "    }\n",
       "\n",
       "    .dataframe tbody tr th {\n",
       "        vertical-align: top;\n",
       "    }\n",
       "\n",
       "    .dataframe thead th {\n",
       "        text-align: right;\n",
       "    }\n",
       "</style>\n",
       "<table border=\"1\" class=\"dataframe\">\n",
       "  <thead>\n",
       "    <tr style=\"text-align: right;\">\n",
       "      <th></th>\n",
       "      <th>tconst</th>\n",
       "      <th>parentTconst</th>\n",
       "      <th>seasonNumber</th>\n",
       "      <th>episodeNumber</th>\n",
       "    </tr>\n",
       "  </thead>\n",
       "  <tbody>\n",
       "    <tr>\n",
       "      <th>0</th>\n",
       "      <td>tt0031458</td>\n",
       "      <td>tt32857063</td>\n",
       "      <td>NaN</td>\n",
       "      <td>NaN</td>\n",
       "    </tr>\n",
       "    <tr>\n",
       "      <th>1</th>\n",
       "      <td>tt0041951</td>\n",
       "      <td>tt0041038</td>\n",
       "      <td>1.0</td>\n",
       "      <td>9.0</td>\n",
       "    </tr>\n",
       "    <tr>\n",
       "      <th>2</th>\n",
       "      <td>tt0042816</td>\n",
       "      <td>tt0989125</td>\n",
       "      <td>1.0</td>\n",
       "      <td>17.0</td>\n",
       "    </tr>\n",
       "    <tr>\n",
       "      <th>3</th>\n",
       "      <td>tt0042889</td>\n",
       "      <td>tt0989125</td>\n",
       "      <td>NaN</td>\n",
       "      <td>NaN</td>\n",
       "    </tr>\n",
       "    <tr>\n",
       "      <th>4</th>\n",
       "      <td>tt0043426</td>\n",
       "      <td>tt0040051</td>\n",
       "      <td>3.0</td>\n",
       "      <td>42.0</td>\n",
       "    </tr>\n",
       "  </tbody>\n",
       "</table>\n",
       "</div>"
      ],
      "text/plain": [
       "      tconst parentTconst  seasonNumber  episodeNumber\n",
       "0  tt0031458   tt32857063           NaN            NaN\n",
       "1  tt0041951    tt0041038           1.0            9.0\n",
       "2  tt0042816    tt0989125           1.0           17.0\n",
       "3  tt0042889    tt0989125           NaN            NaN\n",
       "4  tt0043426    tt0040051           3.0           42.0"
      ]
     },
     "execution_count": 1,
     "metadata": {},
     "output_type": "execute_result"
    }
   ],
   "source": [
    "# import Library yang dibutuhkan\n",
    "import pandas as pd                   #dataframe manipulation\n",
    "import numpy as np                    #scientific camputing\n",
    "import seaborn as sns                 #visualization\n",
    "import matplotlib.pyplot as plt       #visualization\n",
    "%matplotlib inline\n",
    "sns.set(color_codes=True)\n",
    "\n",
    "import warnings\n",
    "warnings.filterwarnings('ignore')\n",
    "\n",
    "\n",
    "# Tables yang akan digunakan\n",
    "'''\n",
    "name.basics.tsv.gz\n",
    "title.basics.tsv.gz\n",
    "title.crew.tsv.gz\n",
    "title.episode.tsv.gz\n",
    "title.ratings.tsv.gz\n",
    "'''\n",
    "\n",
    "# Load all the TSV file into a DataFrame\n",
    "#df = pd.read_csv(\"C:/Users/HP/Desktop/Data IMDb/name.basics.tsv\", sep='\\t', na_values=\"\\\\N\") \n",
    "#df = pd.read_csv(\"C:/Users/HP/Desktop/Data IMDb/title.basics.tsv\", sep='\\t', na_values=\"\\\\N\") \n",
    "#title_crew = pd.read_csv(\"C:/Users/HP/Desktop/Data IMDb/title.crew.tsv\", sep='\\t')\n",
    "df = pd.read_csv(\"C:/Users/HP/Desktop/Data IMDb/title.episode.tsv\", sep='\\t', na_values=\"\\\\N\") #formatting penulisan NaN\n",
    "#title_ratings = pd.read_csv(\"C:/Users/HP/Desktop/Data IMDb/title.ratings.tsv\", sep='\\t')\n",
    "\n",
    "# Display the first 5 rows\n",
    "df.head()\n",
    "#title_basics.head()\n",
    "#title_crew.head()\n",
    "#title_episode.head()\n",
    "#title_ratings.head()"
   ]
  },
  {
   "cell_type": "code",
   "execution_count": 3,
   "id": "1d3d44fa-2cb6-4704-ab31-67db56da84f5",
   "metadata": {},
   "outputs": [
    {
     "data": {
      "text/plain": [
       "tconst            object\n",
       "parentTconst      object\n",
       "seasonNumber     float64\n",
       "episodeNumber    float64\n",
       "dtype: object"
      ]
     },
     "execution_count": 3,
     "metadata": {},
     "output_type": "execute_result"
    }
   ],
   "source": [
    "'''Data Wrangling'''\n",
    "\n",
    "# Cek tipe data\n",
    "df.dtypes"
   ]
  },
  {
   "cell_type": "code",
   "execution_count": 9,
   "id": "e66f2a14-18e2-45e8-867d-dc5ef25b562e",
   "metadata": {},
   "outputs": [
    {
     "data": {
      "text/html": [
       "<div>\n",
       "<style scoped>\n",
       "    .dataframe tbody tr th:only-of-type {\n",
       "        vertical-align: middle;\n",
       "    }\n",
       "\n",
       "    .dataframe tbody tr th {\n",
       "        vertical-align: top;\n",
       "    }\n",
       "\n",
       "    .dataframe thead th {\n",
       "        text-align: right;\n",
       "    }\n",
       "</style>\n",
       "<table border=\"1\" class=\"dataframe\">\n",
       "  <thead>\n",
       "    <tr style=\"text-align: right;\">\n",
       "      <th></th>\n",
       "      <th>tconst</th>\n",
       "      <th>parentTconst</th>\n",
       "      <th>seasonNumber</th>\n",
       "      <th>episodeNumber</th>\n",
       "    </tr>\n",
       "  </thead>\n",
       "  <tbody>\n",
       "  </tbody>\n",
       "</table>\n",
       "</div>"
      ],
      "text/plain": [
       "Empty DataFrame\n",
       "Columns: [tconst, parentTconst, seasonNumber, episodeNumber]\n",
       "Index: []"
      ]
     },
     "execution_count": 9,
     "metadata": {},
     "output_type": "execute_result"
    }
   ],
   "source": [
    "# Menunjukkan Duplicates\n",
    "df[df.duplicated()]"
   ]
  },
  {
   "cell_type": "code",
   "execution_count": 11,
   "id": "a18215fb-be3e-460e-87a8-08f90e550f5e",
   "metadata": {},
   "outputs": [
    {
     "name": "stdout",
     "output_type": "stream",
     "text": [
      "tconst                 0\n",
      "parentTconst           0\n",
      "seasonNumber     1747283\n",
      "episodeNumber    1747283\n",
      "dtype: int64\n"
     ]
    }
   ],
   "source": [
    "# Cek Missing Values\n",
    "print(df.isnull().sum())"
   ]
  },
  {
   "cell_type": "code",
   "execution_count": 13,
   "id": "3ce932a0-c887-4167-8965-4f655d7d5a19",
   "metadata": {},
   "outputs": [
    {
     "data": {
      "text/plain": [
       "tconst           6915500\n",
       "parentTconst     6915500\n",
       "seasonNumber     6915500\n",
       "episodeNumber    6915500\n",
       "dtype: int64"
      ]
     },
     "execution_count": 13,
     "metadata": {},
     "output_type": "execute_result"
    }
   ],
   "source": [
    "'''Ternyata ada missing value, kita akan hapus'''\n",
    "\n",
    "df = df.dropna()\n",
    "df.count()"
   ]
  },
  {
   "cell_type": "code",
   "execution_count": 17,
   "id": "4ef1f403-d9bc-4cb2-a4d5-d05b21518d53",
   "metadata": {},
   "outputs": [
    {
     "data": {
      "text/plain": [
       "tconst           object\n",
       "parentTconst     object\n",
       "seasonNumber      int32\n",
       "episodeNumber     int32\n",
       "dtype: object"
      ]
     },
     "execution_count": 17,
     "metadata": {},
     "output_type": "execute_result"
    }
   ],
   "source": [
    "df['seasonNumber'] = df['seasonNumber'].astype(int)\n",
    "df['episodeNumber'] = df['episodeNumber'].astype(int)\n",
    "df.dtypes"
   ]
  },
  {
   "cell_type": "code",
   "execution_count": 21,
   "id": "c2b45b3e-4cd4-4c8a-86ce-39c208cb6295",
   "metadata": {},
   "outputs": [
    {
     "data": {
      "text/plain": [
       "count    6.915500e+06\n",
       "mean     3.780866e+00\n",
       "std      2.393823e+01\n",
       "min      1.000000e+00\n",
       "25%      1.000000e+00\n",
       "50%      1.000000e+00\n",
       "75%      3.000000e+00\n",
       "max      2.024000e+03\n",
       "Name: seasonNumber, dtype: float64"
      ]
     },
     "execution_count": 21,
     "metadata": {},
     "output_type": "execute_result"
    }
   ],
   "source": [
    "# Untuk melihat nilai unik tiap kolom\n",
    "#df[\"seasonNumber\"].unique()\n",
    "df[\"seasonNumber\"].describe()"
   ]
  },
  {
   "cell_type": "code",
   "execution_count": 25,
   "id": "ef854fee-bf35-4660-9850-ffa35ecc30aa",
   "metadata": {},
   "outputs": [
    {
     "data": {
      "image/png": "[encoded data removed]",
      "text/plain": [
       "<Figure size 640x480 with 1 Axes>"
      ]
     },
     "metadata": {},
     "output_type": "display_data"
    }
   ],
   "source": [
    "# Cek outlier dg boxplot\n",
    "sns.boxplot(x=df['seasonNumber'])\n",
    "\n",
    "plt.show()"
   ]
  },
  {
   "cell_type": "code",
   "execution_count": 42,
   "id": "d7796488-0453-4794-ab0c-fde60f4fb648",
   "metadata": {},
   "outputs": [
    {
     "data": {
      "image/png": "[encoded data removed]",
      "text/plain": [
       "<Figure size 640x480 with 1 Axes>"
      ]
     },
     "metadata": {},
     "output_type": "display_data"
    }
   ],
   "source": [
    "'''range season dibatasi 0 - 8'''\n",
    "df = df[(df['seasonNumber'] <= 8)]\n",
    "\n",
    "sns.boxplot(x=df['seasonNumber'])\n",
    "\n",
    "plt.show()"
   ]
  },
  {
   "cell_type": "code",
   "execution_count": 34,
   "id": "c7e5270a-6183-4b3a-ae4e-1f3e099efa1d",
   "metadata": {},
   "outputs": [
    {
     "data": {
      "image/png": "[encoded data removed]",
      "text/plain": [
       "<Figure size 640x480 with 1 Axes>"
      ]
     },
     "metadata": {},
     "output_type": "display_data"
    },
    {
     "data": {
      "text/plain": [
       "count    6.389245e+06\n",
       "mean     4.522872e+02\n",
       "std      1.378072e+03\n",
       "min      0.000000e+00\n",
       "25%      7.000000e+00\n",
       "50%      2.900000e+01\n",
       "75%      1.770000e+02\n",
       "max      8.020700e+04\n",
       "Name: episodeNumber, dtype: float64"
      ]
     },
     "execution_count": 34,
     "metadata": {},
     "output_type": "execute_result"
    }
   ],
   "source": [
    "# Cek outlier dg boxplot\n",
    "sns.boxplot(x=df['episodeNumber'])\n",
    "\n",
    "plt.show()\n",
    "df[\"episodeNumber\"].describe()"
   ]
  },
  {
   "cell_type": "code",
   "execution_count": 44,
   "id": "7acc3a06-c3cc-4726-80bf-e3828ab37fa4",
   "metadata": {},
   "outputs": [
    {
     "data": {
      "image/png": "[encoded data removed]",
      "text/plain": [
       "<Figure size 640x480 with 1 Axes>"
      ]
     },
     "metadata": {},
     "output_type": "display_data"
    }
   ],
   "source": [
    "'''range season dibatasi 0 - 50'''\n",
    "df = df[(df['episodeNumber'] <= 50)]\n",
    "sns.boxplot(x=df['episodeNumber'])\n",
    "\n",
    "plt.show()\n"
   ]
  },
  {
   "cell_type": "code",
   "execution_count": 62,
   "id": "317a2adc-4515-4364-b73d-4da8e980059d",
   "metadata": {},
   "outputs": [
    {
     "name": "stdout",
     "output_type": "stream",
     "text": [
      "parentTconst  seasonNumber\n",
      "tt0035599     1                1\n",
      "tt0035803     6                6\n",
      "tt0038276     1                1\n",
      "tt0039120     1                1\n",
      "tt0039122     1                5\n",
      "                              ..\n",
      "tt9916216     1               50\n",
      "tt9916380     1               12\n",
      "tt9916678     1               13\n",
      "              2               10\n",
      "              3                8\n",
      "Name: tconst, Length: 298689, dtype: int64\n"
     ]
    }
   ],
   "source": [
    "# Grouping\n",
    "\n",
    "df_sorted = df.sort_values(by='parentTconst', ascending=False)\n",
    "#total_episodes = df_sorted.groupby('parentTconst')['tconst'].count()\n",
    "#parentTconst adalah kesatuan series/judul\n",
    "\n",
    "episodes_per_season = df.groupby(['parentTconst', 'seasonNumber'])['tconst'].count()\n",
    "#jumlah episode di setiap musim untuk setiap serial\n",
    "\n",
    "print(episodes_per_season)\n"
   ]
  },
  {
   "cell_type": "code",
   "execution_count": 64,
   "id": "d933bcc7-16d0-4ec3-8cfd-ec41895d40cd",
   "metadata": {},
   "outputs": [
    {
     "data": {
      "text/html": [
       "<div>\n",
       "<style scoped>\n",
       "    .dataframe tbody tr th:only-of-type {\n",
       "        vertical-align: middle;\n",
       "    }\n",
       "\n",
       "    .dataframe tbody tr th {\n",
       "        vertical-align: top;\n",
       "    }\n",
       "\n",
       "    .dataframe thead th {\n",
       "        text-align: right;\n",
       "    }\n",
       "</style>\n",
       "<table border=\"1\" class=\"dataframe\">\n",
       "  <thead>\n",
       "    <tr style=\"text-align: right;\">\n",
       "      <th></th>\n",
       "      <th>tconst</th>\n",
       "      <th>parentTconst</th>\n",
       "      <th>seasonNumber</th>\n",
       "      <th>episodeNumber</th>\n",
       "    </tr>\n",
       "  </thead>\n",
       "  <tbody>\n",
       "    <tr>\n",
       "      <th>1</th>\n",
       "      <td>tt0041951</td>\n",
       "      <td>tt0041038</td>\n",
       "      <td>1</td>\n",
       "      <td>9</td>\n",
       "    </tr>\n",
       "    <tr>\n",
       "      <th>2</th>\n",
       "      <td>tt0042816</td>\n",
       "      <td>tt0989125</td>\n",
       "      <td>1</td>\n",
       "      <td>17</td>\n",
       "    </tr>\n",
       "    <tr>\n",
       "      <th>4</th>\n",
       "      <td>tt0043426</td>\n",
       "      <td>tt0040051</td>\n",
       "      <td>3</td>\n",
       "      <td>42</td>\n",
       "    </tr>\n",
       "    <tr>\n",
       "      <th>5</th>\n",
       "      <td>tt0043631</td>\n",
       "      <td>tt0989125</td>\n",
       "      <td>2</td>\n",
       "      <td>16</td>\n",
       "    </tr>\n",
       "    <tr>\n",
       "      <th>6</th>\n",
       "      <td>tt0043693</td>\n",
       "      <td>tt0989125</td>\n",
       "      <td>2</td>\n",
       "      <td>8</td>\n",
       "    </tr>\n",
       "  </tbody>\n",
       "</table>\n",
       "</div>"
      ],
      "text/plain": [
       "      tconst parentTconst  seasonNumber  episodeNumber\n",
       "1  tt0041951    tt0041038             1              9\n",
       "2  tt0042816    tt0989125             1             17\n",
       "4  tt0043426    tt0040051             3             42\n",
       "5  tt0043631    tt0989125             2             16\n",
       "6  tt0043693    tt0989125             2              8"
      ]
     },
     "execution_count": 64,
     "metadata": {},
     "output_type": "execute_result"
    }
   ],
   "source": [
    "df.head()"
   ]
  },
  {
   "cell_type": "code",
   "execution_count": 66,
   "id": "981e3443-b622-4793-b93f-41280abc038e",
   "metadata": {},
   "outputs": [],
   "source": [
    "'''Export Dataframe'''\n",
    "\n",
    "# Export into CSV\n",
    "df.to_csv(\"C:/Users/HP/Desktop/Data IMDb/title.episode.csv\", index=False)"
   ]
  },
  {
   "cell_type": "code",
   "execution_count": null,
   "id": "5091a532-08b4-4050-a087-77465ca0ba8a",
   "metadata": {},
   "outputs": [],
   "source": []
  }
 ],
 "metadata": {
  "kernelspec": {
   "display_name": "Python 3 (ipykernel)",
   "language": "python",
   "name": "python3"
  },
  "language_info": {
   "codemirror_mode": {
    "name": "ipython",
    "version": 3
   },
   "file_extension": ".py",
   "mimetype": "text/x-python",
   "name": "python",
   "nbconvert_exporter": "python",
   "pygments_lexer": "ipython3",
   "version": "3.12.7"
  }
 },
 "nbformat": 4,
 "nbformat_minor": 5
}
